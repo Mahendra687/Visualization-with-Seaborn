{
 "cells": [
  {
   "cell_type": "markdown",
   "id": "6230a5da",
   "metadata": {},
   "source": [
    "# Polars: Installation and Basic Usage"
   ]
  },
  {
   "cell_type": "markdown",
   "id": "3bfcfdfd",
   "metadata": {},
   "source": [
    "## Installation"
   ]
  },
  {
   "cell_type": "code",
   "execution_count": 1,
   "id": "36eb6ea4",
   "metadata": {},
   "outputs": [],
   "source": [
    "# !pip install 'polars[plot]'"
   ]
  },
  {
   "cell_type": "markdown",
   "id": "15f50fc7",
   "metadata": {},
   "source": [
    "## Import Library"
   ]
  },
  {
   "cell_type": "code",
   "execution_count": 2,
   "id": "c10931b8",
   "metadata": {},
   "outputs": [],
   "source": [
    "import polars as pl"
   ]
  },
  {
   "cell_type": "markdown",
   "id": "4565a6c0",
   "metadata": {},
   "source": [
    "## Creating and Reading Data"
   ]
  },
  {
   "cell_type": "markdown",
   "id": "1a1f2c93",
   "metadata": {},
   "source": [
    "### Create a DataFrame\n",
    "\n",
    "Polars core object is the **DataFrame**. \n",
    "\n",
    "You can easily create your own by passing a dictionary of column names with lists of values to the Polars `DataFrame()` function."
   ]
  },
  {
   "cell_type": "code",
   "execution_count": 3,
   "id": "089d41a9",
   "metadata": {},
   "outputs": [],
   "source": [
    "df = pl.DataFrame(\n",
    "    {\n",
    "        'student': ['Angel', 'Brendan', 'Chelsea'],\n",
    "        'grade': [10, 11, 9],\n",
    "        'score': [93.5, 87.0, 79.5],\n",
    "        'subject': ['Math', 'Math', 'English'],\n",
    "    }\n",
    ")"
   ]
  },
  {
   "cell_type": "markdown",
   "id": "fec9f92c",
   "metadata": {},
   "source": [
    "When you view the dataframe, you'll see the column names and data types. You will NOT see row index labels since Polars doesn't use them."
   ]
  },
  {
   "cell_type": "code",
   "execution_count": 4,
   "id": "47238ab2",
   "metadata": {},
   "outputs": [
    {
     "data": {
      "text/html": [
       "<div><style>\n",
       ".dataframe > thead > tr,\n",
       ".dataframe > tbody > tr {\n",
       "  text-align: right;\n",
       "  white-space: pre-wrap;\n",
       "}\n",
       "</style>\n",
       "<small>shape: (3, 4)</small><table border=\"1\" class=\"dataframe\"><thead><tr><th>student</th><th>grade</th><th>score</th><th>subject</th></tr><tr><td>str</td><td>i64</td><td>f64</td><td>str</td></tr></thead><tbody><tr><td>&quot;Angel&quot;</td><td>10</td><td>93.5</td><td>&quot;Math&quot;</td></tr><tr><td>&quot;Brendan&quot;</td><td>11</td><td>87.0</td><td>&quot;Math&quot;</td></tr><tr><td>&quot;Chelsea&quot;</td><td>9</td><td>79.5</td><td>&quot;English&quot;</td></tr></tbody></table></div>"
      ],
      "text/plain": [
       "shape: (3, 4)\n",
       "┌─────────┬───────┬───────┬─────────┐\n",
       "│ student ┆ grade ┆ score ┆ subject │\n",
       "│ ---     ┆ ---   ┆ ---   ┆ ---     │\n",
       "│ str     ┆ i64   ┆ f64   ┆ str     │\n",
       "╞═════════╪═══════╪═══════╪═════════╡\n",
       "│ Angel   ┆ 10    ┆ 93.5  ┆ Math    │\n",
       "│ Brendan ┆ 11    ┆ 87.0  ┆ Math    │\n",
       "│ Chelsea ┆ 9     ┆ 79.5  ┆ English │\n",
       "└─────────┴───────┴───────┴─────────┘"
      ]
     },
     "execution_count": 4,
     "metadata": {},
     "output_type": "execute_result"
    }
   ],
   "source": [
    "df"
   ]
  },
  {
   "cell_type": "markdown",
   "id": "074924c3",
   "metadata": {},
   "source": [
    "### Load a CSV\n",
    "\n",
    "You can also easily read data into Polars. The `read_csv()` function loads CSV data:\n",
    "- From your computer if you provide a file path, or\n",
    "- From the internet if you provide a URL."
   ]
  },
  {
   "cell_type": "code",
   "execution_count": 5,
   "id": "1cd5f2a2",
   "metadata": {},
   "outputs": [],
   "source": [
    "cereal = pl.read_csv('https://raw.githubusercontent.com/kimfetti/Projects/master/Etc/cereal.csv')"
   ]
  },
  {
   "cell_type": "code",
   "execution_count": 6,
   "id": "78914474",
   "metadata": {},
   "outputs": [
    {
     "data": {
      "text/html": [
       "<div><style>\n",
       ".dataframe > thead > tr,\n",
       ".dataframe > tbody > tr {\n",
       "  text-align: right;\n",
       "  white-space: pre-wrap;\n",
       "}\n",
       "</style>\n",
       "<small>shape: (77, 16)</small><table border=\"1\" class=\"dataframe\"><thead><tr><th>name</th><th>mfr</th><th>type</th><th>calories</th><th>protein</th><th>fat</th><th>sodium</th><th>fiber</th><th>carbo</th><th>sugars</th><th>potass</th><th>vitamins</th><th>shelf</th><th>weight</th><th>cups</th><th>rating</th></tr><tr><td>str</td><td>str</td><td>str</td><td>i64</td><td>i64</td><td>i64</td><td>i64</td><td>f64</td><td>f64</td><td>i64</td><td>i64</td><td>i64</td><td>i64</td><td>f64</td><td>f64</td><td>f64</td></tr></thead><tbody><tr><td>&quot;100% Bran&quot;</td><td>&quot;N&quot;</td><td>&quot;C&quot;</td><td>70</td><td>4</td><td>1</td><td>130</td><td>10.0</td><td>5.0</td><td>6</td><td>280</td><td>25</td><td>3</td><td>1.0</td><td>0.33</td><td>68.402973</td></tr><tr><td>&quot;100% Natural Bran&quot;</td><td>&quot;Q&quot;</td><td>&quot;C&quot;</td><td>120</td><td>3</td><td>5</td><td>15</td><td>2.0</td><td>8.0</td><td>8</td><td>135</td><td>0</td><td>3</td><td>1.0</td><td>1.0</td><td>33.983679</td></tr><tr><td>&quot;All-Bran&quot;</td><td>&quot;K&quot;</td><td>&quot;C&quot;</td><td>70</td><td>4</td><td>1</td><td>260</td><td>9.0</td><td>7.0</td><td>5</td><td>320</td><td>25</td><td>3</td><td>1.0</td><td>0.33</td><td>59.425505</td></tr><tr><td>&quot;All-Bran with Extra Fiber&quot;</td><td>&quot;K&quot;</td><td>&quot;C&quot;</td><td>50</td><td>4</td><td>0</td><td>140</td><td>14.0</td><td>8.0</td><td>0</td><td>330</td><td>25</td><td>3</td><td>1.0</td><td>0.5</td><td>93.704912</td></tr><tr><td>&quot;Almond Delight&quot;</td><td>&quot;R&quot;</td><td>&quot;C&quot;</td><td>110</td><td>2</td><td>2</td><td>200</td><td>1.0</td><td>14.0</td><td>8</td><td>-1</td><td>25</td><td>3</td><td>1.0</td><td>0.75</td><td>34.384843</td></tr><tr><td>&hellip;</td><td>&hellip;</td><td>&hellip;</td><td>&hellip;</td><td>&hellip;</td><td>&hellip;</td><td>&hellip;</td><td>&hellip;</td><td>&hellip;</td><td>&hellip;</td><td>&hellip;</td><td>&hellip;</td><td>&hellip;</td><td>&hellip;</td><td>&hellip;</td><td>&hellip;</td></tr><tr><td>&quot;Triples&quot;</td><td>&quot;G&quot;</td><td>&quot;C&quot;</td><td>110</td><td>2</td><td>1</td><td>250</td><td>0.0</td><td>21.0</td><td>3</td><td>60</td><td>25</td><td>3</td><td>1.0</td><td>0.75</td><td>39.106174</td></tr><tr><td>&quot;Trix&quot;</td><td>&quot;G&quot;</td><td>&quot;C&quot;</td><td>110</td><td>1</td><td>1</td><td>140</td><td>0.0</td><td>13.0</td><td>12</td><td>25</td><td>25</td><td>2</td><td>1.0</td><td>1.0</td><td>27.753301</td></tr><tr><td>&quot;Wheat Chex&quot;</td><td>&quot;R&quot;</td><td>&quot;C&quot;</td><td>100</td><td>3</td><td>1</td><td>230</td><td>3.0</td><td>17.0</td><td>3</td><td>115</td><td>25</td><td>1</td><td>1.0</td><td>0.67</td><td>49.787445</td></tr><tr><td>&quot;Wheaties&quot;</td><td>&quot;G&quot;</td><td>&quot;C&quot;</td><td>100</td><td>3</td><td>1</td><td>200</td><td>3.0</td><td>17.0</td><td>3</td><td>110</td><td>25</td><td>1</td><td>1.0</td><td>1.0</td><td>51.592193</td></tr><tr><td>&quot;Wheaties Honey Gold&quot;</td><td>&quot;G&quot;</td><td>&quot;C&quot;</td><td>110</td><td>2</td><td>1</td><td>200</td><td>1.0</td><td>16.0</td><td>8</td><td>60</td><td>25</td><td>1</td><td>1.0</td><td>0.75</td><td>36.187559</td></tr></tbody></table></div>"
      ],
      "text/plain": [
       "shape: (77, 16)\n",
       "┌───────────────────────────┬─────┬──────┬──────────┬───┬───────┬────────┬──────┬───────────┐\n",
       "│ name                      ┆ mfr ┆ type ┆ calories ┆ … ┆ shelf ┆ weight ┆ cups ┆ rating    │\n",
       "│ ---                       ┆ --- ┆ ---  ┆ ---      ┆   ┆ ---   ┆ ---    ┆ ---  ┆ ---       │\n",
       "│ str                       ┆ str ┆ str  ┆ i64      ┆   ┆ i64   ┆ f64    ┆ f64  ┆ f64       │\n",
       "╞═══════════════════════════╪═════╪══════╪══════════╪═══╪═══════╪════════╪══════╪═══════════╡\n",
       "│ 100% Bran                 ┆ N   ┆ C    ┆ 70       ┆ … ┆ 3     ┆ 1.0    ┆ 0.33 ┆ 68.402973 │\n",
       "│ 100% Natural Bran         ┆ Q   ┆ C    ┆ 120      ┆ … ┆ 3     ┆ 1.0    ┆ 1.0  ┆ 33.983679 │\n",
       "│ All-Bran                  ┆ K   ┆ C    ┆ 70       ┆ … ┆ 3     ┆ 1.0    ┆ 0.33 ┆ 59.425505 │\n",
       "│ All-Bran with Extra Fiber ┆ K   ┆ C    ┆ 50       ┆ … ┆ 3     ┆ 1.0    ┆ 0.5  ┆ 93.704912 │\n",
       "│ Almond Delight            ┆ R   ┆ C    ┆ 110      ┆ … ┆ 3     ┆ 1.0    ┆ 0.75 ┆ 34.384843 │\n",
       "│ …                         ┆ …   ┆ …    ┆ …        ┆ … ┆ …     ┆ …      ┆ …    ┆ …         │\n",
       "│ Triples                   ┆ G   ┆ C    ┆ 110      ┆ … ┆ 3     ┆ 1.0    ┆ 0.75 ┆ 39.106174 │\n",
       "│ Trix                      ┆ G   ┆ C    ┆ 110      ┆ … ┆ 2     ┆ 1.0    ┆ 1.0  ┆ 27.753301 │\n",
       "│ Wheat Chex                ┆ R   ┆ C    ┆ 100      ┆ … ┆ 1     ┆ 1.0    ┆ 0.67 ┆ 49.787445 │\n",
       "│ Wheaties                  ┆ G   ┆ C    ┆ 100      ┆ … ┆ 1     ┆ 1.0    ┆ 1.0  ┆ 51.592193 │\n",
       "│ Wheaties Honey Gold       ┆ G   ┆ C    ┆ 110      ┆ … ┆ 1     ┆ 1.0    ┆ 0.75 ┆ 36.187559 │\n",
       "└───────────────────────────┴─────┴──────┴──────────┴───┴───────┴────────┴──────┴───────────┘"
      ]
     },
     "execution_count": 6,
     "metadata": {},
     "output_type": "execute_result"
    }
   ],
   "source": [
    "cereal"
   ]
  },
  {
   "cell_type": "markdown",
   "id": "4c722169",
   "metadata": {},
   "source": [
    "## Selecting Data"
   ]
  },
  {
   "cell_type": "markdown",
   "id": "4ffe740a",
   "metadata": {},
   "source": [
    "### Selecting Rows\n",
    "\n",
    "Many of the same functions and methods you may already know from pandas also work in Polars. For example,\n",
    "- `.head()` shows the first few rows of a dataframe\n",
    "- `.sample()` gives you a random sample of rows"
   ]
  },
  {
   "cell_type": "code",
   "execution_count": 7,
   "id": "d443edae",
   "metadata": {},
   "outputs": [
    {
     "data": {
      "text/html": [
       "<div><style>\n",
       ".dataframe > thead > tr,\n",
       ".dataframe > tbody > tr {\n",
       "  text-align: right;\n",
       "  white-space: pre-wrap;\n",
       "}\n",
       "</style>\n",
       "<small>shape: (5, 16)</small><table border=\"1\" class=\"dataframe\"><thead><tr><th>name</th><th>mfr</th><th>type</th><th>calories</th><th>protein</th><th>fat</th><th>sodium</th><th>fiber</th><th>carbo</th><th>sugars</th><th>potass</th><th>vitamins</th><th>shelf</th><th>weight</th><th>cups</th><th>rating</th></tr><tr><td>str</td><td>str</td><td>str</td><td>i64</td><td>i64</td><td>i64</td><td>i64</td><td>f64</td><td>f64</td><td>i64</td><td>i64</td><td>i64</td><td>i64</td><td>f64</td><td>f64</td><td>f64</td></tr></thead><tbody><tr><td>&quot;100% Bran&quot;</td><td>&quot;N&quot;</td><td>&quot;C&quot;</td><td>70</td><td>4</td><td>1</td><td>130</td><td>10.0</td><td>5.0</td><td>6</td><td>280</td><td>25</td><td>3</td><td>1.0</td><td>0.33</td><td>68.402973</td></tr><tr><td>&quot;100% Natural Bran&quot;</td><td>&quot;Q&quot;</td><td>&quot;C&quot;</td><td>120</td><td>3</td><td>5</td><td>15</td><td>2.0</td><td>8.0</td><td>8</td><td>135</td><td>0</td><td>3</td><td>1.0</td><td>1.0</td><td>33.983679</td></tr><tr><td>&quot;All-Bran&quot;</td><td>&quot;K&quot;</td><td>&quot;C&quot;</td><td>70</td><td>4</td><td>1</td><td>260</td><td>9.0</td><td>7.0</td><td>5</td><td>320</td><td>25</td><td>3</td><td>1.0</td><td>0.33</td><td>59.425505</td></tr><tr><td>&quot;All-Bran with Extra Fiber&quot;</td><td>&quot;K&quot;</td><td>&quot;C&quot;</td><td>50</td><td>4</td><td>0</td><td>140</td><td>14.0</td><td>8.0</td><td>0</td><td>330</td><td>25</td><td>3</td><td>1.0</td><td>0.5</td><td>93.704912</td></tr><tr><td>&quot;Almond Delight&quot;</td><td>&quot;R&quot;</td><td>&quot;C&quot;</td><td>110</td><td>2</td><td>2</td><td>200</td><td>1.0</td><td>14.0</td><td>8</td><td>-1</td><td>25</td><td>3</td><td>1.0</td><td>0.75</td><td>34.384843</td></tr></tbody></table></div>"
      ],
      "text/plain": [
       "shape: (5, 16)\n",
       "┌───────────────────────────┬─────┬──────┬──────────┬───┬───────┬────────┬──────┬───────────┐\n",
       "│ name                      ┆ mfr ┆ type ┆ calories ┆ … ┆ shelf ┆ weight ┆ cups ┆ rating    │\n",
       "│ ---                       ┆ --- ┆ ---  ┆ ---      ┆   ┆ ---   ┆ ---    ┆ ---  ┆ ---       │\n",
       "│ str                       ┆ str ┆ str  ┆ i64      ┆   ┆ i64   ┆ f64    ┆ f64  ┆ f64       │\n",
       "╞═══════════════════════════╪═════╪══════╪══════════╪═══╪═══════╪════════╪══════╪═══════════╡\n",
       "│ 100% Bran                 ┆ N   ┆ C    ┆ 70       ┆ … ┆ 3     ┆ 1.0    ┆ 0.33 ┆ 68.402973 │\n",
       "│ 100% Natural Bran         ┆ Q   ┆ C    ┆ 120      ┆ … ┆ 3     ┆ 1.0    ┆ 1.0  ┆ 33.983679 │\n",
       "│ All-Bran                  ┆ K   ┆ C    ┆ 70       ┆ … ┆ 3     ┆ 1.0    ┆ 0.33 ┆ 59.425505 │\n",
       "│ All-Bran with Extra Fiber ┆ K   ┆ C    ┆ 50       ┆ … ┆ 3     ┆ 1.0    ┆ 0.5  ┆ 93.704912 │\n",
       "│ Almond Delight            ┆ R   ┆ C    ┆ 110      ┆ … ┆ 3     ┆ 1.0    ┆ 0.75 ┆ 34.384843 │\n",
       "└───────────────────────────┴─────┴──────┴──────────┴───┴───────┴────────┴──────┴───────────┘"
      ]
     },
     "execution_count": 7,
     "metadata": {},
     "output_type": "execute_result"
    }
   ],
   "source": [
    "cereal.head()"
   ]
  },
  {
   "cell_type": "code",
   "execution_count": 8,
   "id": "07f0f371",
   "metadata": {},
   "outputs": [
    {
     "data": {
      "text/html": [
       "<div><style>\n",
       ".dataframe > thead > tr,\n",
       ".dataframe > tbody > tr {\n",
       "  text-align: right;\n",
       "  white-space: pre-wrap;\n",
       "}\n",
       "</style>\n",
       "<small>shape: (10, 16)</small><table border=\"1\" class=\"dataframe\"><thead><tr><th>name</th><th>mfr</th><th>type</th><th>calories</th><th>protein</th><th>fat</th><th>sodium</th><th>fiber</th><th>carbo</th><th>sugars</th><th>potass</th><th>vitamins</th><th>shelf</th><th>weight</th><th>cups</th><th>rating</th></tr><tr><td>str</td><td>str</td><td>str</td><td>i64</td><td>i64</td><td>i64</td><td>i64</td><td>f64</td><td>f64</td><td>i64</td><td>i64</td><td>i64</td><td>i64</td><td>f64</td><td>f64</td><td>f64</td></tr></thead><tbody><tr><td>&quot;Basic 4&quot;</td><td>&quot;G&quot;</td><td>&quot;C&quot;</td><td>130</td><td>3</td><td>2</td><td>210</td><td>2.0</td><td>18.0</td><td>8</td><td>100</td><td>25</td><td>3</td><td>1.33</td><td>0.75</td><td>37.038562</td></tr><tr><td>&quot;Double Chex&quot;</td><td>&quot;R&quot;</td><td>&quot;C&quot;</td><td>100</td><td>2</td><td>0</td><td>190</td><td>1.0</td><td>18.0</td><td>5</td><td>80</td><td>25</td><td>3</td><td>1.0</td><td>0.75</td><td>44.330856</td></tr><tr><td>&quot;Almond Delight&quot;</td><td>&quot;R&quot;</td><td>&quot;C&quot;</td><td>110</td><td>2</td><td>2</td><td>200</td><td>1.0</td><td>14.0</td><td>8</td><td>-1</td><td>25</td><td>3</td><td>1.0</td><td>0.75</td><td>34.384843</td></tr><tr><td>&quot;All-Bran&quot;</td><td>&quot;K&quot;</td><td>&quot;C&quot;</td><td>70</td><td>4</td><td>1</td><td>260</td><td>9.0</td><td>7.0</td><td>5</td><td>320</td><td>25</td><td>3</td><td>1.0</td><td>0.33</td><td>59.425505</td></tr><tr><td>&quot;Frosted Flakes&quot;</td><td>&quot;K&quot;</td><td>&quot;C&quot;</td><td>110</td><td>1</td><td>0</td><td>200</td><td>1.0</td><td>14.0</td><td>11</td><td>25</td><td>25</td><td>1</td><td>1.0</td><td>0.75</td><td>31.435973</td></tr><tr><td>&quot;Puffed Rice&quot;</td><td>&quot;Q&quot;</td><td>&quot;C&quot;</td><td>50</td><td>1</td><td>0</td><td>0</td><td>0.0</td><td>13.0</td><td>0</td><td>15</td><td>0</td><td>3</td><td>0.5</td><td>1.0</td><td>60.756112</td></tr><tr><td>&quot;Post Nat. Raisin Bran&quot;</td><td>&quot;P&quot;</td><td>&quot;C&quot;</td><td>120</td><td>3</td><td>1</td><td>200</td><td>6.0</td><td>11.0</td><td>14</td><td>260</td><td>25</td><td>3</td><td>1.33</td><td>0.67</td><td>37.840594</td></tr><tr><td>&quot;Cinnamon Toast Crunch&quot;</td><td>&quot;G&quot;</td><td>&quot;C&quot;</td><td>120</td><td>1</td><td>3</td><td>210</td><td>0.0</td><td>13.0</td><td>9</td><td>45</td><td>25</td><td>2</td><td>1.0</td><td>0.75</td><td>19.823573</td></tr><tr><td>&quot;Wheaties&quot;</td><td>&quot;G&quot;</td><td>&quot;C&quot;</td><td>100</td><td>3</td><td>1</td><td>200</td><td>3.0</td><td>17.0</td><td>3</td><td>110</td><td>25</td><td>1</td><td>1.0</td><td>1.0</td><td>51.592193</td></tr><tr><td>&quot;Raisin Nut Bran&quot;</td><td>&quot;G&quot;</td><td>&quot;C&quot;</td><td>100</td><td>3</td><td>2</td><td>140</td><td>2.5</td><td>10.5</td><td>8</td><td>140</td><td>25</td><td>3</td><td>1.0</td><td>0.5</td><td>39.7034</td></tr></tbody></table></div>"
      ],
      "text/plain": [
       "shape: (10, 16)\n",
       "┌───────────────────────┬─────┬──────┬──────────┬───┬───────┬────────┬──────┬───────────┐\n",
       "│ name                  ┆ mfr ┆ type ┆ calories ┆ … ┆ shelf ┆ weight ┆ cups ┆ rating    │\n",
       "│ ---                   ┆ --- ┆ ---  ┆ ---      ┆   ┆ ---   ┆ ---    ┆ ---  ┆ ---       │\n",
       "│ str                   ┆ str ┆ str  ┆ i64      ┆   ┆ i64   ┆ f64    ┆ f64  ┆ f64       │\n",
       "╞═══════════════════════╪═════╪══════╪══════════╪═══╪═══════╪════════╪══════╪═══════════╡\n",
       "│ Basic 4               ┆ G   ┆ C    ┆ 130      ┆ … ┆ 3     ┆ 1.33   ┆ 0.75 ┆ 37.038562 │\n",
       "│ Double Chex           ┆ R   ┆ C    ┆ 100      ┆ … ┆ 3     ┆ 1.0    ┆ 0.75 ┆ 44.330856 │\n",
       "│ Almond Delight        ┆ R   ┆ C    ┆ 110      ┆ … ┆ 3     ┆ 1.0    ┆ 0.75 ┆ 34.384843 │\n",
       "│ All-Bran              ┆ K   ┆ C    ┆ 70       ┆ … ┆ 3     ┆ 1.0    ┆ 0.33 ┆ 59.425505 │\n",
       "│ Frosted Flakes        ┆ K   ┆ C    ┆ 110      ┆ … ┆ 1     ┆ 1.0    ┆ 0.75 ┆ 31.435973 │\n",
       "│ Puffed Rice           ┆ Q   ┆ C    ┆ 50       ┆ … ┆ 3     ┆ 0.5    ┆ 1.0  ┆ 60.756112 │\n",
       "│ Post Nat. Raisin Bran ┆ P   ┆ C    ┆ 120      ┆ … ┆ 3     ┆ 1.33   ┆ 0.67 ┆ 37.840594 │\n",
       "│ Cinnamon Toast Crunch ┆ G   ┆ C    ┆ 120      ┆ … ┆ 2     ┆ 1.0    ┆ 0.75 ┆ 19.823573 │\n",
       "│ Wheaties              ┆ G   ┆ C    ┆ 100      ┆ … ┆ 1     ┆ 1.0    ┆ 1.0  ┆ 51.592193 │\n",
       "│ Raisin Nut Bran       ┆ G   ┆ C    ┆ 100      ┆ … ┆ 3     ┆ 1.0    ┆ 0.5  ┆ 39.7034   │\n",
       "└───────────────────────┴─────┴──────┴──────────┴───┴───────┴────────┴──────┴───────────┘"
      ]
     },
     "execution_count": 8,
     "metadata": {},
     "output_type": "execute_result"
    }
   ],
   "source": [
    "cereal.sample(10, seed=44)"
   ]
  },
  {
   "cell_type": "markdown",
   "id": "a8c2824f",
   "metadata": {},
   "source": [
    "### Selecting Columns\n",
    "\n",
    "Selecting a specific column with Polars, however, looks differently from pandas. Here, use the `.select()` method with the `col()` function."
   ]
  },
  {
   "cell_type": "code",
   "execution_count": 9,
   "id": "b28f9ceb",
   "metadata": {},
   "outputs": [
    {
     "data": {
      "text/html": [
       "<div><style>\n",
       ".dataframe > thead > tr,\n",
       ".dataframe > tbody > tr {\n",
       "  text-align: right;\n",
       "  white-space: pre-wrap;\n",
       "}\n",
       "</style>\n",
       "<small>shape: (77, 1)</small><table border=\"1\" class=\"dataframe\"><thead><tr><th>fiber</th></tr><tr><td>f64</td></tr></thead><tbody><tr><td>10.0</td></tr><tr><td>2.0</td></tr><tr><td>9.0</td></tr><tr><td>14.0</td></tr><tr><td>1.0</td></tr><tr><td>&hellip;</td></tr><tr><td>0.0</td></tr><tr><td>0.0</td></tr><tr><td>3.0</td></tr><tr><td>3.0</td></tr><tr><td>1.0</td></tr></tbody></table></div>"
      ],
      "text/plain": [
       "shape: (77, 1)\n",
       "┌───────┐\n",
       "│ fiber │\n",
       "│ ---   │\n",
       "│ f64   │\n",
       "╞═══════╡\n",
       "│ 10.0  │\n",
       "│ 2.0   │\n",
       "│ 9.0   │\n",
       "│ 14.0  │\n",
       "│ 1.0   │\n",
       "│ …     │\n",
       "│ 0.0   │\n",
       "│ 0.0   │\n",
       "│ 3.0   │\n",
       "│ 3.0   │\n",
       "│ 1.0   │\n",
       "└───────┘"
      ]
     },
     "execution_count": 9,
     "metadata": {},
     "output_type": "execute_result"
    }
   ],
   "source": [
    "cereal.select(pl.col('fiber'))"
   ]
  },
  {
   "cell_type": "code",
   "execution_count": 10,
   "id": "40b951e5",
   "metadata": {},
   "outputs": [
    {
     "data": {
      "text/html": [
       "<div><style>\n",
       ".dataframe > thead > tr,\n",
       ".dataframe > tbody > tr {\n",
       "  text-align: right;\n",
       "  white-space: pre-wrap;\n",
       "}\n",
       "</style>\n",
       "<small>shape: (77, 2)</small><table border=\"1\" class=\"dataframe\"><thead><tr><th>name</th><th>fiber</th></tr><tr><td>str</td><td>f64</td></tr></thead><tbody><tr><td>&quot;100% Bran&quot;</td><td>10.0</td></tr><tr><td>&quot;100% Natural Bran&quot;</td><td>2.0</td></tr><tr><td>&quot;All-Bran&quot;</td><td>9.0</td></tr><tr><td>&quot;All-Bran with Extra Fiber&quot;</td><td>14.0</td></tr><tr><td>&quot;Almond Delight&quot;</td><td>1.0</td></tr><tr><td>&hellip;</td><td>&hellip;</td></tr><tr><td>&quot;Triples&quot;</td><td>0.0</td></tr><tr><td>&quot;Trix&quot;</td><td>0.0</td></tr><tr><td>&quot;Wheat Chex&quot;</td><td>3.0</td></tr><tr><td>&quot;Wheaties&quot;</td><td>3.0</td></tr><tr><td>&quot;Wheaties Honey Gold&quot;</td><td>1.0</td></tr></tbody></table></div>"
      ],
      "text/plain": [
       "shape: (77, 2)\n",
       "┌───────────────────────────┬───────┐\n",
       "│ name                      ┆ fiber │\n",
       "│ ---                       ┆ ---   │\n",
       "│ str                       ┆ f64   │\n",
       "╞═══════════════════════════╪═══════╡\n",
       "│ 100% Bran                 ┆ 10.0  │\n",
       "│ 100% Natural Bran         ┆ 2.0   │\n",
       "│ All-Bran                  ┆ 9.0   │\n",
       "│ All-Bran with Extra Fiber ┆ 14.0  │\n",
       "│ Almond Delight            ┆ 1.0   │\n",
       "│ …                         ┆ …     │\n",
       "│ Triples                   ┆ 0.0   │\n",
       "│ Trix                      ┆ 0.0   │\n",
       "│ Wheat Chex                ┆ 3.0   │\n",
       "│ Wheaties                  ┆ 3.0   │\n",
       "│ Wheaties Honey Gold       ┆ 1.0   │\n",
       "└───────────────────────────┴───────┘"
      ]
     },
     "execution_count": 10,
     "metadata": {},
     "output_type": "execute_result"
    }
   ],
   "source": [
    "cereal.select(pl.col('name', 'fiber'))"
   ]
  },
  {
   "cell_type": "markdown",
   "id": "a64ae970",
   "metadata": {},
   "source": [
    "## Filtering Data\n",
    "\n",
    "Polars dataframes have a dedicated method for filtering; it's called `.filter()`. \n",
    "\n",
    "_HINT: Just remember to keep using `pl.col()` to reference the dataframe columns._"
   ]
  },
  {
   "cell_type": "code",
   "execution_count": 11,
   "id": "6893708c",
   "metadata": {},
   "outputs": [
    {
     "data": {
      "text/html": [
       "<div><style>\n",
       ".dataframe > thead > tr,\n",
       ".dataframe > tbody > tr {\n",
       "  text-align: right;\n",
       "  white-space: pre-wrap;\n",
       "}\n",
       "</style>\n",
       "<small>shape: (5, 16)</small><table border=\"1\" class=\"dataframe\"><thead><tr><th>name</th><th>mfr</th><th>type</th><th>calories</th><th>protein</th><th>fat</th><th>sodium</th><th>fiber</th><th>carbo</th><th>sugars</th><th>potass</th><th>vitamins</th><th>shelf</th><th>weight</th><th>cups</th><th>rating</th></tr><tr><td>str</td><td>str</td><td>str</td><td>i64</td><td>i64</td><td>i64</td><td>i64</td><td>f64</td><td>f64</td><td>i64</td><td>i64</td><td>i64</td><td>i64</td><td>f64</td><td>f64</td><td>f64</td></tr></thead><tbody><tr><td>&quot;Almond Delight&quot;</td><td>&quot;R&quot;</td><td>&quot;C&quot;</td><td>110</td><td>2</td><td>2</td><td>200</td><td>1.0</td><td>14.0</td><td>8</td><td>-1</td><td>25</td><td>3</td><td>1.0</td><td>0.75</td><td>34.384843</td></tr><tr><td>&quot;Cocoa Puffs&quot;</td><td>&quot;G&quot;</td><td>&quot;C&quot;</td><td>110</td><td>1</td><td>1</td><td>180</td><td>0.0</td><td>12.0</td><td>13</td><td>55</td><td>25</td><td>2</td><td>1.0</td><td>1.0</td><td>22.736446</td></tr><tr><td>&quot;Apple Jacks&quot;</td><td>&quot;K&quot;</td><td>&quot;C&quot;</td><td>110</td><td>2</td><td>0</td><td>125</td><td>1.0</td><td>11.0</td><td>14</td><td>30</td><td>25</td><td>2</td><td>1.0</td><td>1.0</td><td>33.174094</td></tr><tr><td>&quot;Basic 4&quot;</td><td>&quot;G&quot;</td><td>&quot;C&quot;</td><td>130</td><td>3</td><td>2</td><td>210</td><td>2.0</td><td>18.0</td><td>8</td><td>100</td><td>25</td><td>3</td><td>1.33</td><td>0.75</td><td>37.038562</td></tr><tr><td>&quot;Honey-comb&quot;</td><td>&quot;P&quot;</td><td>&quot;C&quot;</td><td>110</td><td>1</td><td>0</td><td>180</td><td>0.0</td><td>14.0</td><td>11</td><td>35</td><td>25</td><td>1</td><td>1.0</td><td>1.33</td><td>28.742414</td></tr></tbody></table></div>"
      ],
      "text/plain": [
       "shape: (5, 16)\n",
       "┌────────────────┬─────┬──────┬──────────┬───┬───────┬────────┬──────┬───────────┐\n",
       "│ name           ┆ mfr ┆ type ┆ calories ┆ … ┆ shelf ┆ weight ┆ cups ┆ rating    │\n",
       "│ ---            ┆ --- ┆ ---  ┆ ---      ┆   ┆ ---   ┆ ---    ┆ ---  ┆ ---       │\n",
       "│ str            ┆ str ┆ str  ┆ i64      ┆   ┆ i64   ┆ f64    ┆ f64  ┆ f64       │\n",
       "╞════════════════╪═════╪══════╪══════════╪═══╪═══════╪════════╪══════╪═══════════╡\n",
       "│ Almond Delight ┆ R   ┆ C    ┆ 110      ┆ … ┆ 3     ┆ 1.0    ┆ 0.75 ┆ 34.384843 │\n",
       "│ Cocoa Puffs    ┆ G   ┆ C    ┆ 110      ┆ … ┆ 2     ┆ 1.0    ┆ 1.0  ┆ 22.736446 │\n",
       "│ Apple Jacks    ┆ K   ┆ C    ┆ 110      ┆ … ┆ 2     ┆ 1.0    ┆ 1.0  ┆ 33.174094 │\n",
       "│ Basic 4        ┆ G   ┆ C    ┆ 130      ┆ … ┆ 3     ┆ 1.33   ┆ 0.75 ┆ 37.038562 │\n",
       "│ Honey-comb     ┆ P   ┆ C    ┆ 110      ┆ … ┆ 1     ┆ 1.0    ┆ 1.33 ┆ 28.742414 │\n",
       "└────────────────┴─────┴──────┴──────────┴───┴───────┴────────┴──────┴───────────┘"
      ]
     },
     "execution_count": 11,
     "metadata": {},
     "output_type": "execute_result"
    }
   ],
   "source": [
    "cereal.sample(5, seed=23)"
   ]
  },
  {
   "cell_type": "code",
   "execution_count": 12,
   "id": "68299f8b",
   "metadata": {},
   "outputs": [
    {
     "data": {
      "text/html": [
       "<div><style>\n",
       ".dataframe > thead > tr,\n",
       ".dataframe > tbody > tr {\n",
       "  text-align: right;\n",
       "  white-space: pre-wrap;\n",
       "}\n",
       "</style>\n",
       "<small>shape: (23, 16)</small><table border=\"1\" class=\"dataframe\"><thead><tr><th>name</th><th>mfr</th><th>type</th><th>calories</th><th>protein</th><th>fat</th><th>sodium</th><th>fiber</th><th>carbo</th><th>sugars</th><th>potass</th><th>vitamins</th><th>shelf</th><th>weight</th><th>cups</th><th>rating</th></tr><tr><td>str</td><td>str</td><td>str</td><td>i64</td><td>i64</td><td>i64</td><td>i64</td><td>f64</td><td>f64</td><td>i64</td><td>i64</td><td>i64</td><td>i64</td><td>f64</td><td>f64</td><td>f64</td></tr></thead><tbody><tr><td>&quot;All-Bran&quot;</td><td>&quot;K&quot;</td><td>&quot;C&quot;</td><td>70</td><td>4</td><td>1</td><td>260</td><td>9.0</td><td>7.0</td><td>5</td><td>320</td><td>25</td><td>3</td><td>1.0</td><td>0.33</td><td>59.425505</td></tr><tr><td>&quot;All-Bran with Extra Fiber&quot;</td><td>&quot;K&quot;</td><td>&quot;C&quot;</td><td>50</td><td>4</td><td>0</td><td>140</td><td>14.0</td><td>8.0</td><td>0</td><td>330</td><td>25</td><td>3</td><td>1.0</td><td>0.5</td><td>93.704912</td></tr><tr><td>&quot;Apple Jacks&quot;</td><td>&quot;K&quot;</td><td>&quot;C&quot;</td><td>110</td><td>2</td><td>0</td><td>125</td><td>1.0</td><td>11.0</td><td>14</td><td>30</td><td>25</td><td>2</td><td>1.0</td><td>1.0</td><td>33.174094</td></tr><tr><td>&quot;Corn Flakes&quot;</td><td>&quot;K&quot;</td><td>&quot;C&quot;</td><td>100</td><td>2</td><td>0</td><td>290</td><td>1.0</td><td>21.0</td><td>2</td><td>35</td><td>25</td><td>1</td><td>1.0</td><td>1.0</td><td>45.863324</td></tr><tr><td>&quot;Corn Pops&quot;</td><td>&quot;K&quot;</td><td>&quot;C&quot;</td><td>110</td><td>1</td><td>0</td><td>90</td><td>1.0</td><td>13.0</td><td>12</td><td>20</td><td>25</td><td>2</td><td>1.0</td><td>1.0</td><td>35.782791</td></tr><tr><td>&hellip;</td><td>&hellip;</td><td>&hellip;</td><td>&hellip;</td><td>&hellip;</td><td>&hellip;</td><td>&hellip;</td><td>&hellip;</td><td>&hellip;</td><td>&hellip;</td><td>&hellip;</td><td>&hellip;</td><td>&hellip;</td><td>&hellip;</td><td>&hellip;</td><td>&hellip;</td></tr><tr><td>&quot;Raisin Bran&quot;</td><td>&quot;K&quot;</td><td>&quot;C&quot;</td><td>120</td><td>3</td><td>1</td><td>210</td><td>5.0</td><td>14.0</td><td>12</td><td>240</td><td>25</td><td>2</td><td>1.33</td><td>0.75</td><td>39.259197</td></tr><tr><td>&quot;Raisin Squares&quot;</td><td>&quot;K&quot;</td><td>&quot;C&quot;</td><td>90</td><td>2</td><td>0</td><td>0</td><td>2.0</td><td>15.0</td><td>6</td><td>110</td><td>25</td><td>3</td><td>1.0</td><td>0.5</td><td>55.333142</td></tr><tr><td>&quot;Rice Krispies&quot;</td><td>&quot;K&quot;</td><td>&quot;C&quot;</td><td>110</td><td>2</td><td>0</td><td>290</td><td>0.0</td><td>22.0</td><td>3</td><td>35</td><td>25</td><td>1</td><td>1.0</td><td>1.0</td><td>40.560159</td></tr><tr><td>&quot;Smacks&quot;</td><td>&quot;K&quot;</td><td>&quot;C&quot;</td><td>110</td><td>2</td><td>1</td><td>70</td><td>1.0</td><td>9.0</td><td>15</td><td>40</td><td>25</td><td>2</td><td>1.0</td><td>0.75</td><td>31.230054</td></tr><tr><td>&quot;Special K&quot;</td><td>&quot;K&quot;</td><td>&quot;C&quot;</td><td>110</td><td>6</td><td>0</td><td>230</td><td>1.0</td><td>16.0</td><td>3</td><td>55</td><td>25</td><td>1</td><td>1.0</td><td>1.0</td><td>53.131324</td></tr></tbody></table></div>"
      ],
      "text/plain": [
       "shape: (23, 16)\n",
       "┌───────────────────────────┬─────┬──────┬──────────┬───┬───────┬────────┬──────┬───────────┐\n",
       "│ name                      ┆ mfr ┆ type ┆ calories ┆ … ┆ shelf ┆ weight ┆ cups ┆ rating    │\n",
       "│ ---                       ┆ --- ┆ ---  ┆ ---      ┆   ┆ ---   ┆ ---    ┆ ---  ┆ ---       │\n",
       "│ str                       ┆ str ┆ str  ┆ i64      ┆   ┆ i64   ┆ f64    ┆ f64  ┆ f64       │\n",
       "╞═══════════════════════════╪═════╪══════╪══════════╪═══╪═══════╪════════╪══════╪═══════════╡\n",
       "│ All-Bran                  ┆ K   ┆ C    ┆ 70       ┆ … ┆ 3     ┆ 1.0    ┆ 0.33 ┆ 59.425505 │\n",
       "│ All-Bran with Extra Fiber ┆ K   ┆ C    ┆ 50       ┆ … ┆ 3     ┆ 1.0    ┆ 0.5  ┆ 93.704912 │\n",
       "│ Apple Jacks               ┆ K   ┆ C    ┆ 110      ┆ … ┆ 2     ┆ 1.0    ┆ 1.0  ┆ 33.174094 │\n",
       "│ Corn Flakes               ┆ K   ┆ C    ┆ 100      ┆ … ┆ 1     ┆ 1.0    ┆ 1.0  ┆ 45.863324 │\n",
       "│ Corn Pops                 ┆ K   ┆ C    ┆ 110      ┆ … ┆ 2     ┆ 1.0    ┆ 1.0  ┆ 35.782791 │\n",
       "│ …                         ┆ …   ┆ …    ┆ …        ┆ … ┆ …     ┆ …      ┆ …    ┆ …         │\n",
       "│ Raisin Bran               ┆ K   ┆ C    ┆ 120      ┆ … ┆ 2     ┆ 1.33   ┆ 0.75 ┆ 39.259197 │\n",
       "│ Raisin Squares            ┆ K   ┆ C    ┆ 90       ┆ … ┆ 3     ┆ 1.0    ┆ 0.5  ┆ 55.333142 │\n",
       "│ Rice Krispies             ┆ K   ┆ C    ┆ 110      ┆ … ┆ 1     ┆ 1.0    ┆ 1.0  ┆ 40.560159 │\n",
       "│ Smacks                    ┆ K   ┆ C    ┆ 110      ┆ … ┆ 2     ┆ 1.0    ┆ 0.75 ┆ 31.230054 │\n",
       "│ Special K                 ┆ K   ┆ C    ┆ 110      ┆ … ┆ 1     ┆ 1.0    ┆ 1.0  ┆ 53.131324 │\n",
       "└───────────────────────────┴─────┴──────┴──────────┴───┴───────┴────────┴──────┴───────────┘"
      ]
     },
     "execution_count": 12,
     "metadata": {},
     "output_type": "execute_result"
    }
   ],
   "source": [
    "cereal.filter(pl.col('mfr') == 'K')"
   ]
  },
  {
   "cell_type": "markdown",
   "id": "8e6c2a14",
   "metadata": {},
   "source": [
    "Like pandas, use `&` (and) to enforce conditions, or use `|` (or) to combine conditions where at least one must be true."
   ]
  },
  {
   "cell_type": "code",
   "execution_count": 13,
   "id": "a61114c7",
   "metadata": {},
   "outputs": [
    {
     "data": {
      "text/html": [
       "<div><style>\n",
       ".dataframe > thead > tr,\n",
       ".dataframe > tbody > tr {\n",
       "  text-align: right;\n",
       "  white-space: pre-wrap;\n",
       "}\n",
       "</style>\n",
       "<small>shape: (8, 16)</small><table border=\"1\" class=\"dataframe\"><thead><tr><th>name</th><th>mfr</th><th>type</th><th>calories</th><th>protein</th><th>fat</th><th>sodium</th><th>fiber</th><th>carbo</th><th>sugars</th><th>potass</th><th>vitamins</th><th>shelf</th><th>weight</th><th>cups</th><th>rating</th></tr><tr><td>str</td><td>str</td><td>str</td><td>i64</td><td>i64</td><td>i64</td><td>i64</td><td>f64</td><td>f64</td><td>i64</td><td>i64</td><td>i64</td><td>i64</td><td>f64</td><td>f64</td><td>f64</td></tr></thead><tbody><tr><td>&quot;Apple Jacks&quot;</td><td>&quot;K&quot;</td><td>&quot;C&quot;</td><td>110</td><td>2</td><td>0</td><td>125</td><td>1.0</td><td>11.0</td><td>14</td><td>30</td><td>25</td><td>2</td><td>1.0</td><td>1.0</td><td>33.174094</td></tr><tr><td>&quot;Corn Pops&quot;</td><td>&quot;K&quot;</td><td>&quot;C&quot;</td><td>110</td><td>1</td><td>0</td><td>90</td><td>1.0</td><td>13.0</td><td>12</td><td>20</td><td>25</td><td>2</td><td>1.0</td><td>1.0</td><td>35.782791</td></tr><tr><td>&quot;Froot Loops&quot;</td><td>&quot;K&quot;</td><td>&quot;C&quot;</td><td>110</td><td>2</td><td>1</td><td>125</td><td>1.0</td><td>11.0</td><td>13</td><td>30</td><td>25</td><td>2</td><td>1.0</td><td>1.0</td><td>32.207582</td></tr><tr><td>&quot;Frosted Flakes&quot;</td><td>&quot;K&quot;</td><td>&quot;C&quot;</td><td>110</td><td>1</td><td>0</td><td>200</td><td>1.0</td><td>14.0</td><td>11</td><td>25</td><td>25</td><td>1</td><td>1.0</td><td>0.75</td><td>31.435973</td></tr><tr><td>&quot;Fruitful Bran&quot;</td><td>&quot;K&quot;</td><td>&quot;C&quot;</td><td>120</td><td>3</td><td>0</td><td>240</td><td>5.0</td><td>14.0</td><td>12</td><td>190</td><td>25</td><td>3</td><td>1.33</td><td>0.67</td><td>41.015492</td></tr><tr><td>&quot;Mueslix Crispy Blend&quot;</td><td>&quot;K&quot;</td><td>&quot;C&quot;</td><td>160</td><td>3</td><td>2</td><td>150</td><td>3.0</td><td>17.0</td><td>13</td><td>160</td><td>25</td><td>3</td><td>1.5</td><td>0.67</td><td>30.313351</td></tr><tr><td>&quot;Raisin Bran&quot;</td><td>&quot;K&quot;</td><td>&quot;C&quot;</td><td>120</td><td>3</td><td>1</td><td>210</td><td>5.0</td><td>14.0</td><td>12</td><td>240</td><td>25</td><td>2</td><td>1.33</td><td>0.75</td><td>39.259197</td></tr><tr><td>&quot;Smacks&quot;</td><td>&quot;K&quot;</td><td>&quot;C&quot;</td><td>110</td><td>2</td><td>1</td><td>70</td><td>1.0</td><td>9.0</td><td>15</td><td>40</td><td>25</td><td>2</td><td>1.0</td><td>0.75</td><td>31.230054</td></tr></tbody></table></div>"
      ],
      "text/plain": [
       "shape: (8, 16)\n",
       "┌──────────────────────┬─────┬──────┬──────────┬───┬───────┬────────┬──────┬───────────┐\n",
       "│ name                 ┆ mfr ┆ type ┆ calories ┆ … ┆ shelf ┆ weight ┆ cups ┆ rating    │\n",
       "│ ---                  ┆ --- ┆ ---  ┆ ---      ┆   ┆ ---   ┆ ---    ┆ ---  ┆ ---       │\n",
       "│ str                  ┆ str ┆ str  ┆ i64      ┆   ┆ i64   ┆ f64    ┆ f64  ┆ f64       │\n",
       "╞══════════════════════╪═════╪══════╪══════════╪═══╪═══════╪════════╪══════╪═══════════╡\n",
       "│ Apple Jacks          ┆ K   ┆ C    ┆ 110      ┆ … ┆ 2     ┆ 1.0    ┆ 1.0  ┆ 33.174094 │\n",
       "│ Corn Pops            ┆ K   ┆ C    ┆ 110      ┆ … ┆ 2     ┆ 1.0    ┆ 1.0  ┆ 35.782791 │\n",
       "│ Froot Loops          ┆ K   ┆ C    ┆ 110      ┆ … ┆ 2     ┆ 1.0    ┆ 1.0  ┆ 32.207582 │\n",
       "│ Frosted Flakes       ┆ K   ┆ C    ┆ 110      ┆ … ┆ 1     ┆ 1.0    ┆ 0.75 ┆ 31.435973 │\n",
       "│ Fruitful Bran        ┆ K   ┆ C    ┆ 120      ┆ … ┆ 3     ┆ 1.33   ┆ 0.67 ┆ 41.015492 │\n",
       "│ Mueslix Crispy Blend ┆ K   ┆ C    ┆ 160      ┆ … ┆ 3     ┆ 1.5    ┆ 0.67 ┆ 30.313351 │\n",
       "│ Raisin Bran          ┆ K   ┆ C    ┆ 120      ┆ … ┆ 2     ┆ 1.33   ┆ 0.75 ┆ 39.259197 │\n",
       "│ Smacks               ┆ K   ┆ C    ┆ 110      ┆ … ┆ 2     ┆ 1.0    ┆ 0.75 ┆ 31.230054 │\n",
       "└──────────────────────┴─────┴──────┴──────────┴───┴───────┴────────┴──────┴───────────┘"
      ]
     },
     "execution_count": 13,
     "metadata": {},
     "output_type": "execute_result"
    }
   ],
   "source": [
    "cereal.filter((pl.col('mfr') == 'K') & (pl.col('sugars') >= 10))"
   ]
  },
  {
   "cell_type": "code",
   "execution_count": null,
   "id": "decf4ae6",
   "metadata": {},
   "outputs": [],
   "source": []
  }
 ],
 "metadata": {
  "kernelspec": {
   "display_name": "Python 3 (ipykernel)",
   "language": "python",
   "name": "python3"
  },
  "language_info": {
   "codemirror_mode": {
    "name": "ipython",
    "version": 3
   },
   "file_extension": ".py",
   "mimetype": "text/x-python",
   "name": "python",
   "nbconvert_exporter": "python",
   "pygments_lexer": "ipython3",
   "version": "3.10.13"
  }
 },
 "nbformat": 4,
 "nbformat_minor": 5
}
