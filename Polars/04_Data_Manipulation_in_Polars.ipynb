{
 "cells": [
  {
   "cell_type": "markdown",
   "id": "d43a3c7a",
   "metadata": {},
   "source": [
    "# Polars: Data Manipulation"
   ]
  },
  {
   "cell_type": "markdown",
   "id": "5e19c0ba",
   "metadata": {},
   "source": [
    "## Import Library and Load Data"
   ]
  },
  {
   "cell_type": "code",
   "execution_count": 1,
   "id": "33957e8b",
   "metadata": {},
   "outputs": [],
   "source": [
    "import polars as pl"
   ]
  },
  {
   "cell_type": "code",
   "execution_count": 2,
   "id": "71067017",
   "metadata": {},
   "outputs": [],
   "source": [
    "cereal = pl.read_csv('https://raw.githubusercontent.com/kimfetti/Projects/master/Etc/cereal.csv')"
   ]
  },
  {
   "cell_type": "code",
   "execution_count": 3,
   "id": "6a010920",
   "metadata": {},
   "outputs": [
    {
     "data": {
      "text/html": [
       "<div><style>\n",
       ".dataframe > thead > tr,\n",
       ".dataframe > tbody > tr {\n",
       "  text-align: right;\n",
       "  white-space: pre-wrap;\n",
       "}\n",
       "</style>\n",
       "<small>shape: (5, 16)</small><table border=\"1\" class=\"dataframe\"><thead><tr><th>name</th><th>mfr</th><th>type</th><th>calories</th><th>protein</th><th>fat</th><th>sodium</th><th>fiber</th><th>carbo</th><th>sugars</th><th>potass</th><th>vitamins</th><th>shelf</th><th>weight</th><th>cups</th><th>rating</th></tr><tr><td>str</td><td>str</td><td>str</td><td>i64</td><td>i64</td><td>i64</td><td>i64</td><td>f64</td><td>f64</td><td>i64</td><td>i64</td><td>i64</td><td>i64</td><td>f64</td><td>f64</td><td>f64</td></tr></thead><tbody><tr><td>&quot;Triples&quot;</td><td>&quot;G&quot;</td><td>&quot;C&quot;</td><td>110</td><td>2</td><td>1</td><td>250</td><td>0.0</td><td>21.0</td><td>3</td><td>60</td><td>25</td><td>3</td><td>1.0</td><td>0.75</td><td>39.106174</td></tr><tr><td>&quot;Trix&quot;</td><td>&quot;G&quot;</td><td>&quot;C&quot;</td><td>110</td><td>1</td><td>1</td><td>140</td><td>0.0</td><td>13.0</td><td>12</td><td>25</td><td>25</td><td>2</td><td>1.0</td><td>1.0</td><td>27.753301</td></tr><tr><td>&quot;Wheat Chex&quot;</td><td>&quot;R&quot;</td><td>&quot;C&quot;</td><td>100</td><td>3</td><td>1</td><td>230</td><td>3.0</td><td>17.0</td><td>3</td><td>115</td><td>25</td><td>1</td><td>1.0</td><td>0.67</td><td>49.787445</td></tr><tr><td>&quot;Wheaties&quot;</td><td>&quot;G&quot;</td><td>&quot;C&quot;</td><td>100</td><td>3</td><td>1</td><td>200</td><td>3.0</td><td>17.0</td><td>3</td><td>110</td><td>25</td><td>1</td><td>1.0</td><td>1.0</td><td>51.592193</td></tr><tr><td>&quot;Wheaties Honey Gold&quot;</td><td>&quot;G&quot;</td><td>&quot;C&quot;</td><td>110</td><td>2</td><td>1</td><td>200</td><td>1.0</td><td>16.0</td><td>8</td><td>60</td><td>25</td><td>1</td><td>1.0</td><td>0.75</td><td>36.187559</td></tr></tbody></table></div>"
      ],
      "text/plain": [
       "shape: (5, 16)\n",
       "┌─────────────────────┬─────┬──────┬──────────┬───┬───────┬────────┬──────┬───────────┐\n",
       "│ name                ┆ mfr ┆ type ┆ calories ┆ … ┆ shelf ┆ weight ┆ cups ┆ rating    │\n",
       "│ ---                 ┆ --- ┆ ---  ┆ ---      ┆   ┆ ---   ┆ ---    ┆ ---  ┆ ---       │\n",
       "│ str                 ┆ str ┆ str  ┆ i64      ┆   ┆ i64   ┆ f64    ┆ f64  ┆ f64       │\n",
       "╞═════════════════════╪═════╪══════╪══════════╪═══╪═══════╪════════╪══════╪═══════════╡\n",
       "│ Triples             ┆ G   ┆ C    ┆ 110      ┆ … ┆ 3     ┆ 1.0    ┆ 0.75 ┆ 39.106174 │\n",
       "│ Trix                ┆ G   ┆ C    ┆ 110      ┆ … ┆ 2     ┆ 1.0    ┆ 1.0  ┆ 27.753301 │\n",
       "│ Wheat Chex          ┆ R   ┆ C    ┆ 100      ┆ … ┆ 1     ┆ 1.0    ┆ 0.67 ┆ 49.787445 │\n",
       "│ Wheaties            ┆ G   ┆ C    ┆ 100      ┆ … ┆ 1     ┆ 1.0    ┆ 1.0  ┆ 51.592193 │\n",
       "│ Wheaties Honey Gold ┆ G   ┆ C    ┆ 110      ┆ … ┆ 1     ┆ 1.0    ┆ 0.75 ┆ 36.187559 │\n",
       "└─────────────────────┴─────┴──────┴──────────┴───┴───────┴────────┴──────┴───────────┘"
      ]
     },
     "execution_count": 3,
     "metadata": {},
     "output_type": "execute_result"
    }
   ],
   "source": [
    "cereal.tail()"
   ]
  },
  {
   "cell_type": "markdown",
   "id": "2e35402b",
   "metadata": {},
   "source": [
    "## Adding Columns\n",
    "\n",
    "The `.with_columns()` method allows you to add one or more columns to your dataframes."
   ]
  },
  {
   "cell_type": "code",
   "execution_count": 4,
   "id": "6dd84204",
   "metadata": {},
   "outputs": [
    {
     "data": {
      "text/html": [
       "<div><style>\n",
       ".dataframe > thead > tr,\n",
       ".dataframe > tbody > tr {\n",
       "  text-align: right;\n",
       "  white-space: pre-wrap;\n",
       "}\n",
       "</style>\n",
       "<small>shape: (77, 16)</small><table border=\"1\" class=\"dataframe\"><thead><tr><th>name</th><th>mfr</th><th>type</th><th>calories</th><th>protein</th><th>fat</th><th>sodium</th><th>fiber</th><th>carbo</th><th>sugars</th><th>potass</th><th>vitamins</th><th>shelf</th><th>weight</th><th>cups</th><th>rating</th></tr><tr><td>str</td><td>str</td><td>str</td><td>f64</td><td>i64</td><td>i64</td><td>i64</td><td>f64</td><td>f64</td><td>i64</td><td>i64</td><td>i64</td><td>i64</td><td>f64</td><td>f64</td><td>f64</td></tr></thead><tbody><tr><td>&quot;100% Bran&quot;</td><td>&quot;N&quot;</td><td>&quot;C&quot;</td><td>212.121212</td><td>4</td><td>1</td><td>130</td><td>10.0</td><td>5.0</td><td>6</td><td>280</td><td>25</td><td>3</td><td>1.0</td><td>0.33</td><td>68.402973</td></tr><tr><td>&quot;100% Natural Bran&quot;</td><td>&quot;Q&quot;</td><td>&quot;C&quot;</td><td>120.0</td><td>3</td><td>5</td><td>15</td><td>2.0</td><td>8.0</td><td>8</td><td>135</td><td>0</td><td>3</td><td>1.0</td><td>1.0</td><td>33.983679</td></tr><tr><td>&quot;All-Bran&quot;</td><td>&quot;K&quot;</td><td>&quot;C&quot;</td><td>212.121212</td><td>4</td><td>1</td><td>260</td><td>9.0</td><td>7.0</td><td>5</td><td>320</td><td>25</td><td>3</td><td>1.0</td><td>0.33</td><td>59.425505</td></tr><tr><td>&quot;All-Bran with Extra Fiber&quot;</td><td>&quot;K&quot;</td><td>&quot;C&quot;</td><td>100.0</td><td>4</td><td>0</td><td>140</td><td>14.0</td><td>8.0</td><td>0</td><td>330</td><td>25</td><td>3</td><td>1.0</td><td>0.5</td><td>93.704912</td></tr><tr><td>&quot;Almond Delight&quot;</td><td>&quot;R&quot;</td><td>&quot;C&quot;</td><td>146.666667</td><td>2</td><td>2</td><td>200</td><td>1.0</td><td>14.0</td><td>8</td><td>-1</td><td>25</td><td>3</td><td>1.0</td><td>0.75</td><td>34.384843</td></tr><tr><td>&hellip;</td><td>&hellip;</td><td>&hellip;</td><td>&hellip;</td><td>&hellip;</td><td>&hellip;</td><td>&hellip;</td><td>&hellip;</td><td>&hellip;</td><td>&hellip;</td><td>&hellip;</td><td>&hellip;</td><td>&hellip;</td><td>&hellip;</td><td>&hellip;</td><td>&hellip;</td></tr><tr><td>&quot;Triples&quot;</td><td>&quot;G&quot;</td><td>&quot;C&quot;</td><td>146.666667</td><td>2</td><td>1</td><td>250</td><td>0.0</td><td>21.0</td><td>3</td><td>60</td><td>25</td><td>3</td><td>1.0</td><td>0.75</td><td>39.106174</td></tr><tr><td>&quot;Trix&quot;</td><td>&quot;G&quot;</td><td>&quot;C&quot;</td><td>110.0</td><td>1</td><td>1</td><td>140</td><td>0.0</td><td>13.0</td><td>12</td><td>25</td><td>25</td><td>2</td><td>1.0</td><td>1.0</td><td>27.753301</td></tr><tr><td>&quot;Wheat Chex&quot;</td><td>&quot;R&quot;</td><td>&quot;C&quot;</td><td>149.253731</td><td>3</td><td>1</td><td>230</td><td>3.0</td><td>17.0</td><td>3</td><td>115</td><td>25</td><td>1</td><td>1.0</td><td>0.67</td><td>49.787445</td></tr><tr><td>&quot;Wheaties&quot;</td><td>&quot;G&quot;</td><td>&quot;C&quot;</td><td>100.0</td><td>3</td><td>1</td><td>200</td><td>3.0</td><td>17.0</td><td>3</td><td>110</td><td>25</td><td>1</td><td>1.0</td><td>1.0</td><td>51.592193</td></tr><tr><td>&quot;Wheaties Honey Gold&quot;</td><td>&quot;G&quot;</td><td>&quot;C&quot;</td><td>146.666667</td><td>2</td><td>1</td><td>200</td><td>1.0</td><td>16.0</td><td>8</td><td>60</td><td>25</td><td>1</td><td>1.0</td><td>0.75</td><td>36.187559</td></tr></tbody></table></div>"
      ],
      "text/plain": [
       "shape: (77, 16)\n",
       "┌───────────────────────────┬─────┬──────┬────────────┬───┬───────┬────────┬──────┬───────────┐\n",
       "│ name                      ┆ mfr ┆ type ┆ calories   ┆ … ┆ shelf ┆ weight ┆ cups ┆ rating    │\n",
       "│ ---                       ┆ --- ┆ ---  ┆ ---        ┆   ┆ ---   ┆ ---    ┆ ---  ┆ ---       │\n",
       "│ str                       ┆ str ┆ str  ┆ f64        ┆   ┆ i64   ┆ f64    ┆ f64  ┆ f64       │\n",
       "╞═══════════════════════════╪═════╪══════╪════════════╪═══╪═══════╪════════╪══════╪═══════════╡\n",
       "│ 100% Bran                 ┆ N   ┆ C    ┆ 212.121212 ┆ … ┆ 3     ┆ 1.0    ┆ 0.33 ┆ 68.402973 │\n",
       "│ 100% Natural Bran         ┆ Q   ┆ C    ┆ 120.0      ┆ … ┆ 3     ┆ 1.0    ┆ 1.0  ┆ 33.983679 │\n",
       "│ All-Bran                  ┆ K   ┆ C    ┆ 212.121212 ┆ … ┆ 3     ┆ 1.0    ┆ 0.33 ┆ 59.425505 │\n",
       "│ All-Bran with Extra Fiber ┆ K   ┆ C    ┆ 100.0      ┆ … ┆ 3     ┆ 1.0    ┆ 0.5  ┆ 93.704912 │\n",
       "│ Almond Delight            ┆ R   ┆ C    ┆ 146.666667 ┆ … ┆ 3     ┆ 1.0    ┆ 0.75 ┆ 34.384843 │\n",
       "│ …                         ┆ …   ┆ …    ┆ …          ┆ … ┆ …     ┆ …      ┆ …    ┆ …         │\n",
       "│ Triples                   ┆ G   ┆ C    ┆ 146.666667 ┆ … ┆ 3     ┆ 1.0    ┆ 0.75 ┆ 39.106174 │\n",
       "│ Trix                      ┆ G   ┆ C    ┆ 110.0      ┆ … ┆ 2     ┆ 1.0    ┆ 1.0  ┆ 27.753301 │\n",
       "│ Wheat Chex                ┆ R   ┆ C    ┆ 149.253731 ┆ … ┆ 1     ┆ 1.0    ┆ 0.67 ┆ 49.787445 │\n",
       "│ Wheaties                  ┆ G   ┆ C    ┆ 100.0      ┆ … ┆ 1     ┆ 1.0    ┆ 1.0  ┆ 51.592193 │\n",
       "│ Wheaties Honey Gold       ┆ G   ┆ C    ┆ 146.666667 ┆ … ┆ 1     ┆ 1.0    ┆ 0.75 ┆ 36.187559 │\n",
       "└───────────────────────────┴─────┴──────┴────────────┴───┴───────┴────────┴──────┴───────────┘"
      ]
     },
     "execution_count": 4,
     "metadata": {},
     "output_type": "execute_result"
    }
   ],
   "source": [
    "cereal.with_columns( (pl.col('calories')/pl.col('cups')) )"
   ]
  },
  {
   "cell_type": "markdown",
   "id": "9d31a948",
   "metadata": {},
   "source": [
    "**IMPORTANT: Don't forget to alias the columns you create!** \n",
    "\n",
    "If you don't provide an alias, Polars will overwrite one of the existing columns in your dataframe."
   ]
  },
  {
   "cell_type": "code",
   "execution_count": 5,
   "id": "59a52cdb",
   "metadata": {},
   "outputs": [
    {
     "data": {
      "text/html": [
       "<div><style>\n",
       ".dataframe > thead > tr,\n",
       ".dataframe > tbody > tr {\n",
       "  text-align: right;\n",
       "  white-space: pre-wrap;\n",
       "}\n",
       "</style>\n",
       "<small>shape: (77, 17)</small><table border=\"1\" class=\"dataframe\"><thead><tr><th>name</th><th>mfr</th><th>type</th><th>calories</th><th>protein</th><th>fat</th><th>sodium</th><th>fiber</th><th>carbo</th><th>sugars</th><th>potass</th><th>vitamins</th><th>shelf</th><th>weight</th><th>cups</th><th>rating</th><th>cal_per_cup</th></tr><tr><td>str</td><td>str</td><td>str</td><td>i64</td><td>i64</td><td>i64</td><td>i64</td><td>f64</td><td>f64</td><td>i64</td><td>i64</td><td>i64</td><td>i64</td><td>f64</td><td>f64</td><td>f64</td><td>f64</td></tr></thead><tbody><tr><td>&quot;100% Bran&quot;</td><td>&quot;N&quot;</td><td>&quot;C&quot;</td><td>70</td><td>4</td><td>1</td><td>130</td><td>10.0</td><td>5.0</td><td>6</td><td>280</td><td>25</td><td>3</td><td>1.0</td><td>0.33</td><td>68.402973</td><td>212.121212</td></tr><tr><td>&quot;100% Natural Bran&quot;</td><td>&quot;Q&quot;</td><td>&quot;C&quot;</td><td>120</td><td>3</td><td>5</td><td>15</td><td>2.0</td><td>8.0</td><td>8</td><td>135</td><td>0</td><td>3</td><td>1.0</td><td>1.0</td><td>33.983679</td><td>120.0</td></tr><tr><td>&quot;All-Bran&quot;</td><td>&quot;K&quot;</td><td>&quot;C&quot;</td><td>70</td><td>4</td><td>1</td><td>260</td><td>9.0</td><td>7.0</td><td>5</td><td>320</td><td>25</td><td>3</td><td>1.0</td><td>0.33</td><td>59.425505</td><td>212.121212</td></tr><tr><td>&quot;All-Bran with Extra Fiber&quot;</td><td>&quot;K&quot;</td><td>&quot;C&quot;</td><td>50</td><td>4</td><td>0</td><td>140</td><td>14.0</td><td>8.0</td><td>0</td><td>330</td><td>25</td><td>3</td><td>1.0</td><td>0.5</td><td>93.704912</td><td>100.0</td></tr><tr><td>&quot;Almond Delight&quot;</td><td>&quot;R&quot;</td><td>&quot;C&quot;</td><td>110</td><td>2</td><td>2</td><td>200</td><td>1.0</td><td>14.0</td><td>8</td><td>-1</td><td>25</td><td>3</td><td>1.0</td><td>0.75</td><td>34.384843</td><td>146.666667</td></tr><tr><td>&hellip;</td><td>&hellip;</td><td>&hellip;</td><td>&hellip;</td><td>&hellip;</td><td>&hellip;</td><td>&hellip;</td><td>&hellip;</td><td>&hellip;</td><td>&hellip;</td><td>&hellip;</td><td>&hellip;</td><td>&hellip;</td><td>&hellip;</td><td>&hellip;</td><td>&hellip;</td><td>&hellip;</td></tr><tr><td>&quot;Triples&quot;</td><td>&quot;G&quot;</td><td>&quot;C&quot;</td><td>110</td><td>2</td><td>1</td><td>250</td><td>0.0</td><td>21.0</td><td>3</td><td>60</td><td>25</td><td>3</td><td>1.0</td><td>0.75</td><td>39.106174</td><td>146.666667</td></tr><tr><td>&quot;Trix&quot;</td><td>&quot;G&quot;</td><td>&quot;C&quot;</td><td>110</td><td>1</td><td>1</td><td>140</td><td>0.0</td><td>13.0</td><td>12</td><td>25</td><td>25</td><td>2</td><td>1.0</td><td>1.0</td><td>27.753301</td><td>110.0</td></tr><tr><td>&quot;Wheat Chex&quot;</td><td>&quot;R&quot;</td><td>&quot;C&quot;</td><td>100</td><td>3</td><td>1</td><td>230</td><td>3.0</td><td>17.0</td><td>3</td><td>115</td><td>25</td><td>1</td><td>1.0</td><td>0.67</td><td>49.787445</td><td>149.253731</td></tr><tr><td>&quot;Wheaties&quot;</td><td>&quot;G&quot;</td><td>&quot;C&quot;</td><td>100</td><td>3</td><td>1</td><td>200</td><td>3.0</td><td>17.0</td><td>3</td><td>110</td><td>25</td><td>1</td><td>1.0</td><td>1.0</td><td>51.592193</td><td>100.0</td></tr><tr><td>&quot;Wheaties Honey Gold&quot;</td><td>&quot;G&quot;</td><td>&quot;C&quot;</td><td>110</td><td>2</td><td>1</td><td>200</td><td>1.0</td><td>16.0</td><td>8</td><td>60</td><td>25</td><td>1</td><td>1.0</td><td>0.75</td><td>36.187559</td><td>146.666667</td></tr></tbody></table></div>"
      ],
      "text/plain": [
       "shape: (77, 17)\n",
       "┌───────────────────────────┬─────┬──────┬──────────┬───┬────────┬──────┬───────────┬─────────────┐\n",
       "│ name                      ┆ mfr ┆ type ┆ calories ┆ … ┆ weight ┆ cups ┆ rating    ┆ cal_per_cup │\n",
       "│ ---                       ┆ --- ┆ ---  ┆ ---      ┆   ┆ ---    ┆ ---  ┆ ---       ┆ ---         │\n",
       "│ str                       ┆ str ┆ str  ┆ i64      ┆   ┆ f64    ┆ f64  ┆ f64       ┆ f64         │\n",
       "╞═══════════════════════════╪═════╪══════╪══════════╪═══╪════════╪══════╪═══════════╪═════════════╡\n",
       "│ 100% Bran                 ┆ N   ┆ C    ┆ 70       ┆ … ┆ 1.0    ┆ 0.33 ┆ 68.402973 ┆ 212.121212  │\n",
       "│ 100% Natural Bran         ┆ Q   ┆ C    ┆ 120      ┆ … ┆ 1.0    ┆ 1.0  ┆ 33.983679 ┆ 120.0       │\n",
       "│ All-Bran                  ┆ K   ┆ C    ┆ 70       ┆ … ┆ 1.0    ┆ 0.33 ┆ 59.425505 ┆ 212.121212  │\n",
       "│ All-Bran with Extra Fiber ┆ K   ┆ C    ┆ 50       ┆ … ┆ 1.0    ┆ 0.5  ┆ 93.704912 ┆ 100.0       │\n",
       "│ Almond Delight            ┆ R   ┆ C    ┆ 110      ┆ … ┆ 1.0    ┆ 0.75 ┆ 34.384843 ┆ 146.666667  │\n",
       "│ …                         ┆ …   ┆ …    ┆ …        ┆ … ┆ …      ┆ …    ┆ …         ┆ …           │\n",
       "│ Triples                   ┆ G   ┆ C    ┆ 110      ┆ … ┆ 1.0    ┆ 0.75 ┆ 39.106174 ┆ 146.666667  │\n",
       "│ Trix                      ┆ G   ┆ C    ┆ 110      ┆ … ┆ 1.0    ┆ 1.0  ┆ 27.753301 ┆ 110.0       │\n",
       "│ Wheat Chex                ┆ R   ┆ C    ┆ 100      ┆ … ┆ 1.0    ┆ 0.67 ┆ 49.787445 ┆ 149.253731  │\n",
       "│ Wheaties                  ┆ G   ┆ C    ┆ 100      ┆ … ┆ 1.0    ┆ 1.0  ┆ 51.592193 ┆ 100.0       │\n",
       "│ Wheaties Honey Gold       ┆ G   ┆ C    ┆ 110      ┆ … ┆ 1.0    ┆ 0.75 ┆ 36.187559 ┆ 146.666667  │\n",
       "└───────────────────────────┴─────┴──────┴──────────┴───┴────────┴──────┴───────────┴─────────────┘"
      ]
     },
     "execution_count": 5,
     "metadata": {},
     "output_type": "execute_result"
    }
   ],
   "source": [
    "cereal.with_columns( (pl.col('calories')/pl.col('cups')).alias('cal_per_cup') )"
   ]
  },
  {
   "cell_type": "markdown",
   "id": "9e1ab71e",
   "metadata": {},
   "source": [
    "You can add multiple columns, just separate them with a commas in the `.with_columns()` method.\n",
    "\n",
    "_TIP: Instead of creating these new columns in sucession, Polars can create them in parallel for much speedier calculations!_"
   ]
  },
  {
   "cell_type": "code",
   "execution_count": 6,
   "id": "5104720a",
   "metadata": {},
   "outputs": [
    {
     "data": {
      "text/html": [
       "<div><style>\n",
       ".dataframe > thead > tr,\n",
       ".dataframe > tbody > tr {\n",
       "  text-align: right;\n",
       "  white-space: pre-wrap;\n",
       "}\n",
       "</style>\n",
       "<small>shape: (77, 18)</small><table border=\"1\" class=\"dataframe\"><thead><tr><th>name</th><th>mfr</th><th>type</th><th>calories</th><th>protein</th><th>fat</th><th>sodium</th><th>fiber</th><th>carbo</th><th>sugars</th><th>potass</th><th>vitamins</th><th>shelf</th><th>weight</th><th>cups</th><th>rating</th><th>cal_per_cup</th><th>high_sugar</th></tr><tr><td>str</td><td>str</td><td>str</td><td>i64</td><td>i64</td><td>i64</td><td>i64</td><td>f64</td><td>f64</td><td>i64</td><td>i64</td><td>i64</td><td>i64</td><td>f64</td><td>f64</td><td>f64</td><td>f64</td><td>bool</td></tr></thead><tbody><tr><td>&quot;100% Bran&quot;</td><td>&quot;N&quot;</td><td>&quot;C&quot;</td><td>70</td><td>4</td><td>1</td><td>130</td><td>10.0</td><td>5.0</td><td>6</td><td>280</td><td>25</td><td>3</td><td>1.0</td><td>0.33</td><td>68.402973</td><td>212.121212</td><td>false</td></tr><tr><td>&quot;100% Natural Bran&quot;</td><td>&quot;Q&quot;</td><td>&quot;C&quot;</td><td>120</td><td>3</td><td>5</td><td>15</td><td>2.0</td><td>8.0</td><td>8</td><td>135</td><td>0</td><td>3</td><td>1.0</td><td>1.0</td><td>33.983679</td><td>120.0</td><td>false</td></tr><tr><td>&quot;All-Bran&quot;</td><td>&quot;K&quot;</td><td>&quot;C&quot;</td><td>70</td><td>4</td><td>1</td><td>260</td><td>9.0</td><td>7.0</td><td>5</td><td>320</td><td>25</td><td>3</td><td>1.0</td><td>0.33</td><td>59.425505</td><td>212.121212</td><td>false</td></tr><tr><td>&quot;All-Bran with Extra Fiber&quot;</td><td>&quot;K&quot;</td><td>&quot;C&quot;</td><td>50</td><td>4</td><td>0</td><td>140</td><td>14.0</td><td>8.0</td><td>0</td><td>330</td><td>25</td><td>3</td><td>1.0</td><td>0.5</td><td>93.704912</td><td>100.0</td><td>false</td></tr><tr><td>&quot;Almond Delight&quot;</td><td>&quot;R&quot;</td><td>&quot;C&quot;</td><td>110</td><td>2</td><td>2</td><td>200</td><td>1.0</td><td>14.0</td><td>8</td><td>-1</td><td>25</td><td>3</td><td>1.0</td><td>0.75</td><td>34.384843</td><td>146.666667</td><td>false</td></tr><tr><td>&hellip;</td><td>&hellip;</td><td>&hellip;</td><td>&hellip;</td><td>&hellip;</td><td>&hellip;</td><td>&hellip;</td><td>&hellip;</td><td>&hellip;</td><td>&hellip;</td><td>&hellip;</td><td>&hellip;</td><td>&hellip;</td><td>&hellip;</td><td>&hellip;</td><td>&hellip;</td><td>&hellip;</td><td>&hellip;</td></tr><tr><td>&quot;Triples&quot;</td><td>&quot;G&quot;</td><td>&quot;C&quot;</td><td>110</td><td>2</td><td>1</td><td>250</td><td>0.0</td><td>21.0</td><td>3</td><td>60</td><td>25</td><td>3</td><td>1.0</td><td>0.75</td><td>39.106174</td><td>146.666667</td><td>false</td></tr><tr><td>&quot;Trix&quot;</td><td>&quot;G&quot;</td><td>&quot;C&quot;</td><td>110</td><td>1</td><td>1</td><td>140</td><td>0.0</td><td>13.0</td><td>12</td><td>25</td><td>25</td><td>2</td><td>1.0</td><td>1.0</td><td>27.753301</td><td>110.0</td><td>true</td></tr><tr><td>&quot;Wheat Chex&quot;</td><td>&quot;R&quot;</td><td>&quot;C&quot;</td><td>100</td><td>3</td><td>1</td><td>230</td><td>3.0</td><td>17.0</td><td>3</td><td>115</td><td>25</td><td>1</td><td>1.0</td><td>0.67</td><td>49.787445</td><td>149.253731</td><td>false</td></tr><tr><td>&quot;Wheaties&quot;</td><td>&quot;G&quot;</td><td>&quot;C&quot;</td><td>100</td><td>3</td><td>1</td><td>200</td><td>3.0</td><td>17.0</td><td>3</td><td>110</td><td>25</td><td>1</td><td>1.0</td><td>1.0</td><td>51.592193</td><td>100.0</td><td>false</td></tr><tr><td>&quot;Wheaties Honey Gold&quot;</td><td>&quot;G&quot;</td><td>&quot;C&quot;</td><td>110</td><td>2</td><td>1</td><td>200</td><td>1.0</td><td>16.0</td><td>8</td><td>60</td><td>25</td><td>1</td><td>1.0</td><td>0.75</td><td>36.187559</td><td>146.666667</td><td>false</td></tr></tbody></table></div>"
      ],
      "text/plain": [
       "shape: (77, 18)\n",
       "┌─────────────────────┬─────┬──────┬──────────┬───┬──────┬───────────┬─────────────┬────────────┐\n",
       "│ name                ┆ mfr ┆ type ┆ calories ┆ … ┆ cups ┆ rating    ┆ cal_per_cup ┆ high_sugar │\n",
       "│ ---                 ┆ --- ┆ ---  ┆ ---      ┆   ┆ ---  ┆ ---       ┆ ---         ┆ ---        │\n",
       "│ str                 ┆ str ┆ str  ┆ i64      ┆   ┆ f64  ┆ f64       ┆ f64         ┆ bool       │\n",
       "╞═════════════════════╪═════╪══════╪══════════╪═══╪══════╪═══════════╪═════════════╪════════════╡\n",
       "│ 100% Bran           ┆ N   ┆ C    ┆ 70       ┆ … ┆ 0.33 ┆ 68.402973 ┆ 212.121212  ┆ false      │\n",
       "│ 100% Natural Bran   ┆ Q   ┆ C    ┆ 120      ┆ … ┆ 1.0  ┆ 33.983679 ┆ 120.0       ┆ false      │\n",
       "│ All-Bran            ┆ K   ┆ C    ┆ 70       ┆ … ┆ 0.33 ┆ 59.425505 ┆ 212.121212  ┆ false      │\n",
       "│ All-Bran with Extra ┆ K   ┆ C    ┆ 50       ┆ … ┆ 0.5  ┆ 93.704912 ┆ 100.0       ┆ false      │\n",
       "│ Fiber               ┆     ┆      ┆          ┆   ┆      ┆           ┆             ┆            │\n",
       "│ Almond Delight      ┆ R   ┆ C    ┆ 110      ┆ … ┆ 0.75 ┆ 34.384843 ┆ 146.666667  ┆ false      │\n",
       "│ …                   ┆ …   ┆ …    ┆ …        ┆ … ┆ …    ┆ …         ┆ …           ┆ …          │\n",
       "│ Triples             ┆ G   ┆ C    ┆ 110      ┆ … ┆ 0.75 ┆ 39.106174 ┆ 146.666667  ┆ false      │\n",
       "│ Trix                ┆ G   ┆ C    ┆ 110      ┆ … ┆ 1.0  ┆ 27.753301 ┆ 110.0       ┆ true       │\n",
       "│ Wheat Chex          ┆ R   ┆ C    ┆ 100      ┆ … ┆ 0.67 ┆ 49.787445 ┆ 149.253731  ┆ false      │\n",
       "│ Wheaties            ┆ G   ┆ C    ┆ 100      ┆ … ┆ 1.0  ┆ 51.592193 ┆ 100.0       ┆ false      │\n",
       "│ Wheaties Honey Gold ┆ G   ┆ C    ┆ 110      ┆ … ┆ 0.75 ┆ 36.187559 ┆ 146.666667  ┆ false      │\n",
       "└─────────────────────┴─────┴──────┴──────────┴───┴──────┴───────────┴─────────────┴────────────┘"
      ]
     },
     "execution_count": 6,
     "metadata": {},
     "output_type": "execute_result"
    }
   ],
   "source": [
    "cereal.with_columns( \n",
    "    (pl.col('calories')/pl.col('cups')).alias('cal_per_cup'),\n",
    "    (pl.col('sugars') >= 10).alias('high_sugar')\n",
    ")"
   ]
  },
  {
   "cell_type": "markdown",
   "id": "dab68e09",
   "metadata": {},
   "source": [
    "None of the columns we've created appear in our `cereal` dataframe. Changes don't stick around unless you save the output of `.with_columns()`."
   ]
  },
  {
   "cell_type": "code",
   "execution_count": 7,
   "id": "f20e006e",
   "metadata": {},
   "outputs": [
    {
     "data": {
      "text/html": [
       "<div><style>\n",
       ".dataframe > thead > tr,\n",
       ".dataframe > tbody > tr {\n",
       "  text-align: right;\n",
       "  white-space: pre-wrap;\n",
       "}\n",
       "</style>\n",
       "<small>shape: (77, 16)</small><table border=\"1\" class=\"dataframe\"><thead><tr><th>name</th><th>mfr</th><th>type</th><th>calories</th><th>protein</th><th>fat</th><th>sodium</th><th>fiber</th><th>carbo</th><th>sugars</th><th>potass</th><th>vitamins</th><th>shelf</th><th>weight</th><th>cups</th><th>rating</th></tr><tr><td>str</td><td>str</td><td>str</td><td>i64</td><td>i64</td><td>i64</td><td>i64</td><td>f64</td><td>f64</td><td>i64</td><td>i64</td><td>i64</td><td>i64</td><td>f64</td><td>f64</td><td>f64</td></tr></thead><tbody><tr><td>&quot;100% Bran&quot;</td><td>&quot;N&quot;</td><td>&quot;C&quot;</td><td>70</td><td>4</td><td>1</td><td>130</td><td>10.0</td><td>5.0</td><td>6</td><td>280</td><td>25</td><td>3</td><td>1.0</td><td>0.33</td><td>68.402973</td></tr><tr><td>&quot;100% Natural Bran&quot;</td><td>&quot;Q&quot;</td><td>&quot;C&quot;</td><td>120</td><td>3</td><td>5</td><td>15</td><td>2.0</td><td>8.0</td><td>8</td><td>135</td><td>0</td><td>3</td><td>1.0</td><td>1.0</td><td>33.983679</td></tr><tr><td>&quot;All-Bran&quot;</td><td>&quot;K&quot;</td><td>&quot;C&quot;</td><td>70</td><td>4</td><td>1</td><td>260</td><td>9.0</td><td>7.0</td><td>5</td><td>320</td><td>25</td><td>3</td><td>1.0</td><td>0.33</td><td>59.425505</td></tr><tr><td>&quot;All-Bran with Extra Fiber&quot;</td><td>&quot;K&quot;</td><td>&quot;C&quot;</td><td>50</td><td>4</td><td>0</td><td>140</td><td>14.0</td><td>8.0</td><td>0</td><td>330</td><td>25</td><td>3</td><td>1.0</td><td>0.5</td><td>93.704912</td></tr><tr><td>&quot;Almond Delight&quot;</td><td>&quot;R&quot;</td><td>&quot;C&quot;</td><td>110</td><td>2</td><td>2</td><td>200</td><td>1.0</td><td>14.0</td><td>8</td><td>-1</td><td>25</td><td>3</td><td>1.0</td><td>0.75</td><td>34.384843</td></tr><tr><td>&hellip;</td><td>&hellip;</td><td>&hellip;</td><td>&hellip;</td><td>&hellip;</td><td>&hellip;</td><td>&hellip;</td><td>&hellip;</td><td>&hellip;</td><td>&hellip;</td><td>&hellip;</td><td>&hellip;</td><td>&hellip;</td><td>&hellip;</td><td>&hellip;</td><td>&hellip;</td></tr><tr><td>&quot;Triples&quot;</td><td>&quot;G&quot;</td><td>&quot;C&quot;</td><td>110</td><td>2</td><td>1</td><td>250</td><td>0.0</td><td>21.0</td><td>3</td><td>60</td><td>25</td><td>3</td><td>1.0</td><td>0.75</td><td>39.106174</td></tr><tr><td>&quot;Trix&quot;</td><td>&quot;G&quot;</td><td>&quot;C&quot;</td><td>110</td><td>1</td><td>1</td><td>140</td><td>0.0</td><td>13.0</td><td>12</td><td>25</td><td>25</td><td>2</td><td>1.0</td><td>1.0</td><td>27.753301</td></tr><tr><td>&quot;Wheat Chex&quot;</td><td>&quot;R&quot;</td><td>&quot;C&quot;</td><td>100</td><td>3</td><td>1</td><td>230</td><td>3.0</td><td>17.0</td><td>3</td><td>115</td><td>25</td><td>1</td><td>1.0</td><td>0.67</td><td>49.787445</td></tr><tr><td>&quot;Wheaties&quot;</td><td>&quot;G&quot;</td><td>&quot;C&quot;</td><td>100</td><td>3</td><td>1</td><td>200</td><td>3.0</td><td>17.0</td><td>3</td><td>110</td><td>25</td><td>1</td><td>1.0</td><td>1.0</td><td>51.592193</td></tr><tr><td>&quot;Wheaties Honey Gold&quot;</td><td>&quot;G&quot;</td><td>&quot;C&quot;</td><td>110</td><td>2</td><td>1</td><td>200</td><td>1.0</td><td>16.0</td><td>8</td><td>60</td><td>25</td><td>1</td><td>1.0</td><td>0.75</td><td>36.187559</td></tr></tbody></table></div>"
      ],
      "text/plain": [
       "shape: (77, 16)\n",
       "┌───────────────────────────┬─────┬──────┬──────────┬───┬───────┬────────┬──────┬───────────┐\n",
       "│ name                      ┆ mfr ┆ type ┆ calories ┆ … ┆ shelf ┆ weight ┆ cups ┆ rating    │\n",
       "│ ---                       ┆ --- ┆ ---  ┆ ---      ┆   ┆ ---   ┆ ---    ┆ ---  ┆ ---       │\n",
       "│ str                       ┆ str ┆ str  ┆ i64      ┆   ┆ i64   ┆ f64    ┆ f64  ┆ f64       │\n",
       "╞═══════════════════════════╪═════╪══════╪══════════╪═══╪═══════╪════════╪══════╪═══════════╡\n",
       "│ 100% Bran                 ┆ N   ┆ C    ┆ 70       ┆ … ┆ 3     ┆ 1.0    ┆ 0.33 ┆ 68.402973 │\n",
       "│ 100% Natural Bran         ┆ Q   ┆ C    ┆ 120      ┆ … ┆ 3     ┆ 1.0    ┆ 1.0  ┆ 33.983679 │\n",
       "│ All-Bran                  ┆ K   ┆ C    ┆ 70       ┆ … ┆ 3     ┆ 1.0    ┆ 0.33 ┆ 59.425505 │\n",
       "│ All-Bran with Extra Fiber ┆ K   ┆ C    ┆ 50       ┆ … ┆ 3     ┆ 1.0    ┆ 0.5  ┆ 93.704912 │\n",
       "│ Almond Delight            ┆ R   ┆ C    ┆ 110      ┆ … ┆ 3     ┆ 1.0    ┆ 0.75 ┆ 34.384843 │\n",
       "│ …                         ┆ …   ┆ …    ┆ …        ┆ … ┆ …     ┆ …      ┆ …    ┆ …         │\n",
       "│ Triples                   ┆ G   ┆ C    ┆ 110      ┆ … ┆ 3     ┆ 1.0    ┆ 0.75 ┆ 39.106174 │\n",
       "│ Trix                      ┆ G   ┆ C    ┆ 110      ┆ … ┆ 2     ┆ 1.0    ┆ 1.0  ┆ 27.753301 │\n",
       "│ Wheat Chex                ┆ R   ┆ C    ┆ 100      ┆ … ┆ 1     ┆ 1.0    ┆ 0.67 ┆ 49.787445 │\n",
       "│ Wheaties                  ┆ G   ┆ C    ┆ 100      ┆ … ┆ 1     ┆ 1.0    ┆ 1.0  ┆ 51.592193 │\n",
       "│ Wheaties Honey Gold       ┆ G   ┆ C    ┆ 110      ┆ … ┆ 1     ┆ 1.0    ┆ 0.75 ┆ 36.187559 │\n",
       "└───────────────────────────┴─────┴──────┴──────────┴───┴───────┴────────┴──────┴───────────┘"
      ]
     },
     "execution_count": 7,
     "metadata": {},
     "output_type": "execute_result"
    }
   ],
   "source": [
    "cereal"
   ]
  },
  {
   "cell_type": "markdown",
   "id": "83a89874",
   "metadata": {},
   "source": [
    "## Missing Values"
   ]
  },
  {
   "cell_type": "markdown",
   "id": "b2643cd8",
   "metadata": {},
   "source": [
    "### Finding Missings\n",
    "\n",
    "You can look at descriptive statistics, along with the number of missing values, using the `.describe()` method."
   ]
  },
  {
   "cell_type": "code",
   "execution_count": 8,
   "id": "a843ab40",
   "metadata": {},
   "outputs": [
    {
     "data": {
      "text/html": [
       "<div><style>\n",
       ".dataframe > thead > tr,\n",
       ".dataframe > tbody > tr {\n",
       "  text-align: right;\n",
       "  white-space: pre-wrap;\n",
       "}\n",
       "</style>\n",
       "<small>shape: (9, 17)</small><table border=\"1\" class=\"dataframe\"><thead><tr><th>statistic</th><th>name</th><th>mfr</th><th>type</th><th>calories</th><th>protein</th><th>fat</th><th>sodium</th><th>fiber</th><th>carbo</th><th>sugars</th><th>potass</th><th>vitamins</th><th>shelf</th><th>weight</th><th>cups</th><th>rating</th></tr><tr><td>str</td><td>str</td><td>str</td><td>str</td><td>f64</td><td>f64</td><td>f64</td><td>f64</td><td>f64</td><td>f64</td><td>f64</td><td>f64</td><td>f64</td><td>f64</td><td>f64</td><td>f64</td><td>f64</td></tr></thead><tbody><tr><td>&quot;count&quot;</td><td>&quot;77&quot;</td><td>&quot;77&quot;</td><td>&quot;77&quot;</td><td>77.0</td><td>77.0</td><td>77.0</td><td>77.0</td><td>77.0</td><td>77.0</td><td>77.0</td><td>77.0</td><td>77.0</td><td>77.0</td><td>77.0</td><td>77.0</td><td>77.0</td></tr><tr><td>&quot;null_count&quot;</td><td>&quot;0&quot;</td><td>&quot;0&quot;</td><td>&quot;0&quot;</td><td>0.0</td><td>0.0</td><td>0.0</td><td>0.0</td><td>0.0</td><td>0.0</td><td>0.0</td><td>0.0</td><td>0.0</td><td>0.0</td><td>0.0</td><td>0.0</td><td>0.0</td></tr><tr><td>&quot;mean&quot;</td><td>null</td><td>null</td><td>null</td><td>106.883117</td><td>2.545455</td><td>1.012987</td><td>159.675325</td><td>2.151948</td><td>14.597403</td><td>6.922078</td><td>96.077922</td><td>28.246753</td><td>2.207792</td><td>1.02961</td><td>0.821039</td><td>42.665705</td></tr><tr><td>&quot;std&quot;</td><td>null</td><td>null</td><td>null</td><td>19.484119</td><td>1.09479</td><td>1.006473</td><td>83.832295</td><td>2.383364</td><td>4.278956</td><td>4.444885</td><td>71.286813</td><td>22.342523</td><td>0.832524</td><td>0.150477</td><td>0.232716</td><td>14.047289</td></tr><tr><td>&quot;min&quot;</td><td>&quot;100% Bran&quot;</td><td>&quot;A&quot;</td><td>&quot;C&quot;</td><td>50.0</td><td>1.0</td><td>0.0</td><td>0.0</td><td>0.0</td><td>-1.0</td><td>-1.0</td><td>-1.0</td><td>0.0</td><td>1.0</td><td>0.5</td><td>0.25</td><td>18.042851</td></tr><tr><td>&quot;25%&quot;</td><td>null</td><td>null</td><td>null</td><td>100.0</td><td>2.0</td><td>0.0</td><td>130.0</td><td>1.0</td><td>12.0</td><td>3.0</td><td>40.0</td><td>25.0</td><td>1.0</td><td>1.0</td><td>0.67</td><td>33.174094</td></tr><tr><td>&quot;50%&quot;</td><td>null</td><td>null</td><td>null</td><td>110.0</td><td>3.0</td><td>1.0</td><td>180.0</td><td>2.0</td><td>14.0</td><td>7.0</td><td>90.0</td><td>25.0</td><td>2.0</td><td>1.0</td><td>0.75</td><td>40.400208</td></tr><tr><td>&quot;75%&quot;</td><td>null</td><td>null</td><td>null</td><td>110.0</td><td>3.0</td><td>2.0</td><td>210.0</td><td>3.0</td><td>17.0</td><td>11.0</td><td>120.0</td><td>25.0</td><td>3.0</td><td>1.0</td><td>1.0</td><td>50.828392</td></tr><tr><td>&quot;max&quot;</td><td>&quot;Wheaties Honey Gold&quot;</td><td>&quot;R&quot;</td><td>&quot;H&quot;</td><td>160.0</td><td>6.0</td><td>5.0</td><td>320.0</td><td>14.0</td><td>23.0</td><td>15.0</td><td>330.0</td><td>100.0</td><td>3.0</td><td>1.5</td><td>1.5</td><td>93.704912</td></tr></tbody></table></div>"
      ],
      "text/plain": [
       "shape: (9, 17)\n",
       "┌────────────┬─────────────────────┬──────┬──────┬───┬──────────┬──────────┬──────────┬───────────┐\n",
       "│ statistic  ┆ name                ┆ mfr  ┆ type ┆ … ┆ shelf    ┆ weight   ┆ cups     ┆ rating    │\n",
       "│ ---        ┆ ---                 ┆ ---  ┆ ---  ┆   ┆ ---      ┆ ---      ┆ ---      ┆ ---       │\n",
       "│ str        ┆ str                 ┆ str  ┆ str  ┆   ┆ f64      ┆ f64      ┆ f64      ┆ f64       │\n",
       "╞════════════╪═════════════════════╪══════╪══════╪═══╪══════════╪══════════╪══════════╪═══════════╡\n",
       "│ count      ┆ 77                  ┆ 77   ┆ 77   ┆ … ┆ 77.0     ┆ 77.0     ┆ 77.0     ┆ 77.0      │\n",
       "│ null_count ┆ 0                   ┆ 0    ┆ 0    ┆ … ┆ 0.0      ┆ 0.0      ┆ 0.0      ┆ 0.0       │\n",
       "│ mean       ┆ null                ┆ null ┆ null ┆ … ┆ 2.207792 ┆ 1.02961  ┆ 0.821039 ┆ 42.665705 │\n",
       "│ std        ┆ null                ┆ null ┆ null ┆ … ┆ 0.832524 ┆ 0.150477 ┆ 0.232716 ┆ 14.047289 │\n",
       "│ min        ┆ 100% Bran           ┆ A    ┆ C    ┆ … ┆ 1.0      ┆ 0.5      ┆ 0.25     ┆ 18.042851 │\n",
       "│ 25%        ┆ null                ┆ null ┆ null ┆ … ┆ 1.0      ┆ 1.0      ┆ 0.67     ┆ 33.174094 │\n",
       "│ 50%        ┆ null                ┆ null ┆ null ┆ … ┆ 2.0      ┆ 1.0      ┆ 0.75     ┆ 40.400208 │\n",
       "│ 75%        ┆ null                ┆ null ┆ null ┆ … ┆ 3.0      ┆ 1.0      ┆ 1.0      ┆ 50.828392 │\n",
       "│ max        ┆ Wheaties Honey Gold ┆ R    ┆ H    ┆ … ┆ 3.0      ┆ 1.5      ┆ 1.5      ┆ 93.704912 │\n",
       "└────────────┴─────────────────────┴──────┴──────┴───┴──────────┴──────────┴──────────┴───────────┘"
      ]
     },
     "execution_count": 8,
     "metadata": {},
     "output_type": "execute_result"
    }
   ],
   "source": [
    "cereal.describe()"
   ]
  },
  {
   "cell_type": "markdown",
   "id": "67179748",
   "metadata": {},
   "source": [
    "It appears there are no null values in this dataset; however, -1 signifies missings."
   ]
  },
  {
   "cell_type": "code",
   "execution_count": 9,
   "id": "9ec384a6",
   "metadata": {},
   "outputs": [
    {
     "data": {
      "text/html": [
       "<div><style>\n",
       ".dataframe > thead > tr,\n",
       ".dataframe > tbody > tr {\n",
       "  text-align: right;\n",
       "  white-space: pre-wrap;\n",
       "}\n",
       "</style>\n",
       "<small>shape: (2, 16)</small><table border=\"1\" class=\"dataframe\"><thead><tr><th>name</th><th>mfr</th><th>type</th><th>calories</th><th>protein</th><th>fat</th><th>sodium</th><th>fiber</th><th>carbo</th><th>sugars</th><th>potass</th><th>vitamins</th><th>shelf</th><th>weight</th><th>cups</th><th>rating</th></tr><tr><td>str</td><td>str</td><td>str</td><td>i64</td><td>i64</td><td>i64</td><td>i64</td><td>f64</td><td>f64</td><td>i64</td><td>i64</td><td>i64</td><td>i64</td><td>f64</td><td>f64</td><td>f64</td></tr></thead><tbody><tr><td>&quot;Almond Delight&quot;</td><td>&quot;R&quot;</td><td>&quot;C&quot;</td><td>110</td><td>2</td><td>2</td><td>200</td><td>1.0</td><td>14.0</td><td>8</td><td>-1</td><td>25</td><td>3</td><td>1.0</td><td>0.75</td><td>34.384843</td></tr><tr><td>&quot;Cream of Wheat (Quick)&quot;</td><td>&quot;N&quot;</td><td>&quot;H&quot;</td><td>100</td><td>3</td><td>0</td><td>80</td><td>1.0</td><td>21.0</td><td>0</td><td>-1</td><td>0</td><td>2</td><td>1.0</td><td>1.0</td><td>64.533816</td></tr></tbody></table></div>"
      ],
      "text/plain": [
       "shape: (2, 16)\n",
       "┌────────────────────────┬─────┬──────┬──────────┬───┬───────┬────────┬──────┬───────────┐\n",
       "│ name                   ┆ mfr ┆ type ┆ calories ┆ … ┆ shelf ┆ weight ┆ cups ┆ rating    │\n",
       "│ ---                    ┆ --- ┆ ---  ┆ ---      ┆   ┆ ---   ┆ ---    ┆ ---  ┆ ---       │\n",
       "│ str                    ┆ str ┆ str  ┆ i64      ┆   ┆ i64   ┆ f64    ┆ f64  ┆ f64       │\n",
       "╞════════════════════════╪═════╪══════╪══════════╪═══╪═══════╪════════╪══════╪═══════════╡\n",
       "│ Almond Delight         ┆ R   ┆ C    ┆ 110      ┆ … ┆ 3     ┆ 1.0    ┆ 0.75 ┆ 34.384843 │\n",
       "│ Cream of Wheat (Quick) ┆ N   ┆ H    ┆ 100      ┆ … ┆ 2     ┆ 1.0    ┆ 1.0  ┆ 64.533816 │\n",
       "└────────────────────────┴─────┴──────┴──────────┴───┴───────┴────────┴──────┴───────────┘"
      ]
     },
     "execution_count": 9,
     "metadata": {},
     "output_type": "execute_result"
    }
   ],
   "source": [
    "cereal.filter(pl.col('potass') == -1)"
   ]
  },
  {
   "cell_type": "markdown",
   "id": "2e794545",
   "metadata": {},
   "source": [
    "The `read_csv()` function offers many options to handle your data upon import, including a way to detect missing value characters.\n",
    "\n",
    "Let's reload the data but specify that -1 indicates a missing value."
   ]
  },
  {
   "cell_type": "code",
   "execution_count": 10,
   "id": "6fa3e2c0",
   "metadata": {},
   "outputs": [],
   "source": [
    "cereal = pl.read_csv(\n",
    "    'https://raw.githubusercontent.com/kimfetti/Projects/master/Etc/cereal.csv',\n",
    "    null_values = '-1'\n",
    ")"
   ]
  },
  {
   "cell_type": "markdown",
   "id": "df7c5e4b",
   "metadata": {},
   "source": [
    "Now we correctly observe a \"null\" for the potassium value for \"Almond Delight.\""
   ]
  },
  {
   "cell_type": "code",
   "execution_count": 11,
   "id": "ea7c2a36",
   "metadata": {},
   "outputs": [],
   "source": [
    "cereal = pl.read_csv(\n",
    "    'https://raw.githubusercontent.com/kimfetti/Projects/master/Etc/cereal.csv',\n",
    "    null_values = '-1'\n",
    ")"
   ]
  },
  {
   "cell_type": "markdown",
   "id": "093c67ff",
   "metadata": {},
   "source": [
    "To find missing values, use `.is_null()`."
   ]
  },
  {
   "cell_type": "code",
   "execution_count": 12,
   "id": "caa9a212",
   "metadata": {},
   "outputs": [
    {
     "data": {
      "text/html": [
       "<div><style>\n",
       ".dataframe > thead > tr,\n",
       ".dataframe > tbody > tr {\n",
       "  text-align: right;\n",
       "  white-space: pre-wrap;\n",
       "}\n",
       "</style>\n",
       "<small>shape: (2, 16)</small><table border=\"1\" class=\"dataframe\"><thead><tr><th>name</th><th>mfr</th><th>type</th><th>calories</th><th>protein</th><th>fat</th><th>sodium</th><th>fiber</th><th>carbo</th><th>sugars</th><th>potass</th><th>vitamins</th><th>shelf</th><th>weight</th><th>cups</th><th>rating</th></tr><tr><td>str</td><td>str</td><td>str</td><td>i64</td><td>i64</td><td>i64</td><td>i64</td><td>f64</td><td>f64</td><td>i64</td><td>i64</td><td>i64</td><td>i64</td><td>f64</td><td>f64</td><td>f64</td></tr></thead><tbody><tr><td>&quot;Almond Delight&quot;</td><td>&quot;R&quot;</td><td>&quot;C&quot;</td><td>110</td><td>2</td><td>2</td><td>200</td><td>1.0</td><td>14.0</td><td>8</td><td>null</td><td>25</td><td>3</td><td>1.0</td><td>0.75</td><td>34.384843</td></tr><tr><td>&quot;Cream of Wheat (Quick)&quot;</td><td>&quot;N&quot;</td><td>&quot;H&quot;</td><td>100</td><td>3</td><td>0</td><td>80</td><td>1.0</td><td>21.0</td><td>0</td><td>null</td><td>0</td><td>2</td><td>1.0</td><td>1.0</td><td>64.533816</td></tr></tbody></table></div>"
      ],
      "text/plain": [
       "shape: (2, 16)\n",
       "┌────────────────────────┬─────┬──────┬──────────┬───┬───────┬────────┬──────┬───────────┐\n",
       "│ name                   ┆ mfr ┆ type ┆ calories ┆ … ┆ shelf ┆ weight ┆ cups ┆ rating    │\n",
       "│ ---                    ┆ --- ┆ ---  ┆ ---      ┆   ┆ ---   ┆ ---    ┆ ---  ┆ ---       │\n",
       "│ str                    ┆ str ┆ str  ┆ i64      ┆   ┆ i64   ┆ f64    ┆ f64  ┆ f64       │\n",
       "╞════════════════════════╪═════╪══════╪══════════╪═══╪═══════╪════════╪══════╪═══════════╡\n",
       "│ Almond Delight         ┆ R   ┆ C    ┆ 110      ┆ … ┆ 3     ┆ 1.0    ┆ 0.75 ┆ 34.384843 │\n",
       "│ Cream of Wheat (Quick) ┆ N   ┆ H    ┆ 100      ┆ … ┆ 2     ┆ 1.0    ┆ 1.0  ┆ 64.533816 │\n",
       "└────────────────────────┴─────┴──────┴──────────┴───┴───────┴────────┴──────┴───────────┘"
      ]
     },
     "execution_count": 12,
     "metadata": {},
     "output_type": "execute_result"
    }
   ],
   "source": [
    "cereal.filter(pl.col('potass').is_null())"
   ]
  },
  {
   "cell_type": "markdown",
   "id": "b8edd1e3",
   "metadata": {},
   "source": [
    "### Imputing (Filling) Missings\n",
    "\n",
    "To impute or fill in missing values, use `.fill_null()`."
   ]
  },
  {
   "cell_type": "code",
   "execution_count": 13,
   "id": "3267f255",
   "metadata": {},
   "outputs": [
    {
     "data": {
      "text/html": [
       "<div><style>\n",
       ".dataframe > thead > tr,\n",
       ".dataframe > tbody > tr {\n",
       "  text-align: right;\n",
       "  white-space: pre-wrap;\n",
       "}\n",
       "</style>\n",
       "<small>shape: (5, 16)</small><table border=\"1\" class=\"dataframe\"><thead><tr><th>name</th><th>mfr</th><th>type</th><th>calories</th><th>protein</th><th>fat</th><th>sodium</th><th>fiber</th><th>carbo</th><th>sugars</th><th>potass</th><th>vitamins</th><th>shelf</th><th>weight</th><th>cups</th><th>rating</th></tr><tr><td>str</td><td>str</td><td>str</td><td>i64</td><td>i64</td><td>i64</td><td>i64</td><td>f64</td><td>f64</td><td>i64</td><td>i64</td><td>i64</td><td>i64</td><td>f64</td><td>f64</td><td>f64</td></tr></thead><tbody><tr><td>&quot;100% Bran&quot;</td><td>&quot;N&quot;</td><td>&quot;C&quot;</td><td>70</td><td>4</td><td>1</td><td>130</td><td>10.0</td><td>5.0</td><td>6</td><td>280</td><td>25</td><td>3</td><td>1.0</td><td>0.33</td><td>68.402973</td></tr><tr><td>&quot;100% Natural Bran&quot;</td><td>&quot;Q&quot;</td><td>&quot;C&quot;</td><td>120</td><td>3</td><td>5</td><td>15</td><td>2.0</td><td>8.0</td><td>8</td><td>135</td><td>0</td><td>3</td><td>1.0</td><td>1.0</td><td>33.983679</td></tr><tr><td>&quot;All-Bran&quot;</td><td>&quot;K&quot;</td><td>&quot;C&quot;</td><td>70</td><td>4</td><td>1</td><td>260</td><td>9.0</td><td>7.0</td><td>5</td><td>320</td><td>25</td><td>3</td><td>1.0</td><td>0.33</td><td>59.425505</td></tr><tr><td>&quot;All-Bran with Extra Fiber&quot;</td><td>&quot;K&quot;</td><td>&quot;C&quot;</td><td>50</td><td>4</td><td>0</td><td>140</td><td>14.0</td><td>8.0</td><td>0</td><td>330</td><td>25</td><td>3</td><td>1.0</td><td>0.5</td><td>93.704912</td></tr><tr><td>&quot;Almond Delight&quot;</td><td>&quot;R&quot;</td><td>&quot;C&quot;</td><td>110</td><td>2</td><td>2</td><td>200</td><td>1.0</td><td>14.0</td><td>8</td><td>0</td><td>25</td><td>3</td><td>1.0</td><td>0.75</td><td>34.384843</td></tr></tbody></table></div>"
      ],
      "text/plain": [
       "shape: (5, 16)\n",
       "┌───────────────────────────┬─────┬──────┬──────────┬───┬───────┬────────┬──────┬───────────┐\n",
       "│ name                      ┆ mfr ┆ type ┆ calories ┆ … ┆ shelf ┆ weight ┆ cups ┆ rating    │\n",
       "│ ---                       ┆ --- ┆ ---  ┆ ---      ┆   ┆ ---   ┆ ---    ┆ ---  ┆ ---       │\n",
       "│ str                       ┆ str ┆ str  ┆ i64      ┆   ┆ i64   ┆ f64    ┆ f64  ┆ f64       │\n",
       "╞═══════════════════════════╪═════╪══════╪══════════╪═══╪═══════╪════════╪══════╪═══════════╡\n",
       "│ 100% Bran                 ┆ N   ┆ C    ┆ 70       ┆ … ┆ 3     ┆ 1.0    ┆ 0.33 ┆ 68.402973 │\n",
       "│ 100% Natural Bran         ┆ Q   ┆ C    ┆ 120      ┆ … ┆ 3     ┆ 1.0    ┆ 1.0  ┆ 33.983679 │\n",
       "│ All-Bran                  ┆ K   ┆ C    ┆ 70       ┆ … ┆ 3     ┆ 1.0    ┆ 0.33 ┆ 59.425505 │\n",
       "│ All-Bran with Extra Fiber ┆ K   ┆ C    ┆ 50       ┆ … ┆ 3     ┆ 1.0    ┆ 0.5  ┆ 93.704912 │\n",
       "│ Almond Delight            ┆ R   ┆ C    ┆ 110      ┆ … ┆ 3     ┆ 1.0    ┆ 0.75 ┆ 34.384843 │\n",
       "└───────────────────────────┴─────┴──────┴──────────┴───┴───────┴────────┴──────┴───────────┘"
      ]
     },
     "execution_count": 13,
     "metadata": {},
     "output_type": "execute_result"
    }
   ],
   "source": [
    "cereal.fill_null(0).head()"
   ]
  },
  {
   "cell_type": "code",
   "execution_count": 14,
   "id": "51c67022",
   "metadata": {},
   "outputs": [
    {
     "data": {
      "text/html": [
       "<div><style>\n",
       ".dataframe > thead > tr,\n",
       ".dataframe > tbody > tr {\n",
       "  text-align: right;\n",
       "  white-space: pre-wrap;\n",
       "}\n",
       "</style>\n",
       "<small>shape: (5, 16)</small><table border=\"1\" class=\"dataframe\"><thead><tr><th>name</th><th>mfr</th><th>type</th><th>calories</th><th>protein</th><th>fat</th><th>sodium</th><th>fiber</th><th>carbo</th><th>sugars</th><th>potass</th><th>vitamins</th><th>shelf</th><th>weight</th><th>cups</th><th>rating</th></tr><tr><td>str</td><td>str</td><td>str</td><td>i64</td><td>i64</td><td>i64</td><td>i64</td><td>f64</td><td>f64</td><td>i64</td><td>i64</td><td>i64</td><td>i64</td><td>f64</td><td>f64</td><td>f64</td></tr></thead><tbody><tr><td>&quot;100% Bran&quot;</td><td>&quot;N&quot;</td><td>&quot;C&quot;</td><td>70</td><td>4</td><td>1</td><td>130</td><td>10.0</td><td>5.0</td><td>6</td><td>280</td><td>25</td><td>3</td><td>1.0</td><td>0.33</td><td>68.402973</td></tr><tr><td>&quot;100% Natural Bran&quot;</td><td>&quot;Q&quot;</td><td>&quot;C&quot;</td><td>120</td><td>3</td><td>5</td><td>15</td><td>2.0</td><td>8.0</td><td>8</td><td>135</td><td>0</td><td>3</td><td>1.0</td><td>1.0</td><td>33.983679</td></tr><tr><td>&quot;All-Bran&quot;</td><td>&quot;K&quot;</td><td>&quot;C&quot;</td><td>70</td><td>4</td><td>1</td><td>260</td><td>9.0</td><td>7.0</td><td>5</td><td>320</td><td>25</td><td>3</td><td>1.0</td><td>0.33</td><td>59.425505</td></tr><tr><td>&quot;All-Bran with Extra Fiber&quot;</td><td>&quot;K&quot;</td><td>&quot;C&quot;</td><td>50</td><td>4</td><td>0</td><td>140</td><td>14.0</td><td>8.0</td><td>0</td><td>330</td><td>25</td><td>3</td><td>1.0</td><td>0.5</td><td>93.704912</td></tr><tr><td>&quot;Almond Delight&quot;</td><td>&quot;R&quot;</td><td>&quot;C&quot;</td><td>110</td><td>2</td><td>2</td><td>200</td><td>1.0</td><td>14.0</td><td>8</td><td>98</td><td>25</td><td>3</td><td>1.0</td><td>0.75</td><td>34.384843</td></tr></tbody></table></div>"
      ],
      "text/plain": [
       "shape: (5, 16)\n",
       "┌───────────────────────────┬─────┬──────┬──────────┬───┬───────┬────────┬──────┬───────────┐\n",
       "│ name                      ┆ mfr ┆ type ┆ calories ┆ … ┆ shelf ┆ weight ┆ cups ┆ rating    │\n",
       "│ ---                       ┆ --- ┆ ---  ┆ ---      ┆   ┆ ---   ┆ ---    ┆ ---  ┆ ---       │\n",
       "│ str                       ┆ str ┆ str  ┆ i64      ┆   ┆ i64   ┆ f64    ┆ f64  ┆ f64       │\n",
       "╞═══════════════════════════╪═════╪══════╪══════════╪═══╪═══════╪════════╪══════╪═══════════╡\n",
       "│ 100% Bran                 ┆ N   ┆ C    ┆ 70       ┆ … ┆ 3     ┆ 1.0    ┆ 0.33 ┆ 68.402973 │\n",
       "│ 100% Natural Bran         ┆ Q   ┆ C    ┆ 120      ┆ … ┆ 3     ┆ 1.0    ┆ 1.0  ┆ 33.983679 │\n",
       "│ All-Bran                  ┆ K   ┆ C    ┆ 70       ┆ … ┆ 3     ┆ 1.0    ┆ 0.33 ┆ 59.425505 │\n",
       "│ All-Bran with Extra Fiber ┆ K   ┆ C    ┆ 50       ┆ … ┆ 3     ┆ 1.0    ┆ 0.5  ┆ 93.704912 │\n",
       "│ Almond Delight            ┆ R   ┆ C    ┆ 110      ┆ … ┆ 3     ┆ 1.0    ┆ 0.75 ┆ 34.384843 │\n",
       "└───────────────────────────┴─────┴──────┴──────────┴───┴───────┴────────┴──────┴───────────┘"
      ]
     },
     "execution_count": 14,
     "metadata": {},
     "output_type": "execute_result"
    }
   ],
   "source": [
    "cereal.fill_null(strategy='mean').head()"
   ]
  },
  {
   "cell_type": "markdown",
   "id": "ad853dbe",
   "metadata": {},
   "source": [
    "## Joining DataFrames"
   ]
  },
  {
   "cell_type": "markdown",
   "id": "5880fa10",
   "metadata": {},
   "source": [
    "To demonstrate merging dataframes, here's another small dataframe with the current manufacturers of each cereal. _(\"D\" means the cereal has been discontinued.)_"
   ]
  },
  {
   "cell_type": "code",
   "execution_count": 15,
   "id": "995fc3d8",
   "metadata": {},
   "outputs": [
    {
     "data": {
      "text/html": [
       "<div><style>\n",
       ".dataframe > thead > tr,\n",
       ".dataframe > tbody > tr {\n",
       "  text-align: right;\n",
       "  white-space: pre-wrap;\n",
       "}\n",
       "</style>\n",
       "<small>shape: (77, 2)</small><table border=\"1\" class=\"dataframe\"><thead><tr><th>name</th><th>current_mfr</th></tr><tr><td>str</td><td>str</td></tr></thead><tbody><tr><td>&quot;100% Bran&quot;</td><td>&quot;K&quot;</td></tr><tr><td>&quot;100% Natural Bran&quot;</td><td>&quot;D&quot;</td></tr><tr><td>&quot;All-Bran&quot;</td><td>&quot;K&quot;</td></tr><tr><td>&quot;All-Bran with Extra Fiber&quot;</td><td>&quot;D&quot;</td></tr><tr><td>&quot;Almond Delight&quot;</td><td>&quot;D&quot;</td></tr><tr><td>&hellip;</td><td>&hellip;</td></tr><tr><td>&quot;Triples&quot;</td><td>&quot;D&quot;</td></tr><tr><td>&quot;Trix&quot;</td><td>&quot;G&quot;</td></tr><tr><td>&quot;Wheat Chex&quot;</td><td>&quot;G&quot;</td></tr><tr><td>&quot;Wheaties&quot;</td><td>&quot;G&quot;</td></tr><tr><td>&quot;Wheaties Honey Gold&quot;</td><td>&quot;D&quot;</td></tr></tbody></table></div>"
      ],
      "text/plain": [
       "shape: (77, 2)\n",
       "┌───────────────────────────┬─────────────┐\n",
       "│ name                      ┆ current_mfr │\n",
       "│ ---                       ┆ ---         │\n",
       "│ str                       ┆ str         │\n",
       "╞═══════════════════════════╪═════════════╡\n",
       "│ 100% Bran                 ┆ K           │\n",
       "│ 100% Natural Bran         ┆ D           │\n",
       "│ All-Bran                  ┆ K           │\n",
       "│ All-Bran with Extra Fiber ┆ D           │\n",
       "│ Almond Delight            ┆ D           │\n",
       "│ …                         ┆ …           │\n",
       "│ Triples                   ┆ D           │\n",
       "│ Trix                      ┆ G           │\n",
       "│ Wheat Chex                ┆ G           │\n",
       "│ Wheaties                  ┆ G           │\n",
       "│ Wheaties Honey Gold       ┆ D           │\n",
       "└───────────────────────────┴─────────────┘"
      ]
     },
     "execution_count": 15,
     "metadata": {},
     "output_type": "execute_result"
    }
   ],
   "source": [
    "cereal_current = pl.DataFrame(\n",
    "    {\n",
    "        'name': cereal.select(pl.col('name')),\n",
    "        'current_mfr': [\"K\", \"D\", \"K\", \"D\", \"D\", \"G\", \"K\", \"G\", \"G\", \"K\", \n",
    "                        \"Q\", \"G\", \"G\", \"D\", \"G\", \"G\", \"K\", \"K\", \"G\", \"K\", \n",
    "                        \"B\", \"K\", \"D\", \"D\", \"K\", \"K\", \"K\", \"D\", \"P\", \"P\", \n",
    "                        \"P\", \"G\", \"P\", \"P\", \"P\", \"Q\", \"G\", \"P\", \"D\", \"D\",\n",
    "                        \"G\", \"Q\", \"G\", \"H\", \"D\", \"D\", \"K\", \"G\", \"D\", \"D\", \n",
    "                        \"D\", \"D\", \"P\", \"D\", \"Q\", \"Q\", \"Q\", \"Q\", \"K\", \"G\", \n",
    "                        \"D\", \"G\", \"K\", \"P\", \"D\", \"P\", \"K\", \"K\", \"D\", \"G\", \n",
    "                        \"G\", \"G\", \"D\", \"G\", \"G\", \"G\", \"D\"]\n",
    "    }\n",
    ")\n",
    "\n",
    "cereal_current"
   ]
  },
  {
   "cell_type": "markdown",
   "id": "2fb50c4c",
   "metadata": {},
   "source": [
    "To perform table joins in Polars, use the `.join()` method. This method allows for inner, full outer, left, right, and cross joins."
   ]
  },
  {
   "cell_type": "code",
   "execution_count": 16,
   "id": "a60639bd",
   "metadata": {},
   "outputs": [
    {
     "data": {
      "text/html": [
       "<div><style>\n",
       ".dataframe > thead > tr,\n",
       ".dataframe > tbody > tr {\n",
       "  text-align: right;\n",
       "  white-space: pre-wrap;\n",
       "}\n",
       "</style>\n",
       "<small>shape: (77, 17)</small><table border=\"1\" class=\"dataframe\"><thead><tr><th>name</th><th>mfr</th><th>type</th><th>calories</th><th>protein</th><th>fat</th><th>sodium</th><th>fiber</th><th>carbo</th><th>sugars</th><th>potass</th><th>vitamins</th><th>shelf</th><th>weight</th><th>cups</th><th>rating</th><th>current_mfr</th></tr><tr><td>str</td><td>str</td><td>str</td><td>i64</td><td>i64</td><td>i64</td><td>i64</td><td>f64</td><td>f64</td><td>i64</td><td>i64</td><td>i64</td><td>i64</td><td>f64</td><td>f64</td><td>f64</td><td>str</td></tr></thead><tbody><tr><td>&quot;100% Bran&quot;</td><td>&quot;N&quot;</td><td>&quot;C&quot;</td><td>70</td><td>4</td><td>1</td><td>130</td><td>10.0</td><td>5.0</td><td>6</td><td>280</td><td>25</td><td>3</td><td>1.0</td><td>0.33</td><td>68.402973</td><td>&quot;K&quot;</td></tr><tr><td>&quot;100% Natural Bran&quot;</td><td>&quot;Q&quot;</td><td>&quot;C&quot;</td><td>120</td><td>3</td><td>5</td><td>15</td><td>2.0</td><td>8.0</td><td>8</td><td>135</td><td>0</td><td>3</td><td>1.0</td><td>1.0</td><td>33.983679</td><td>&quot;D&quot;</td></tr><tr><td>&quot;All-Bran&quot;</td><td>&quot;K&quot;</td><td>&quot;C&quot;</td><td>70</td><td>4</td><td>1</td><td>260</td><td>9.0</td><td>7.0</td><td>5</td><td>320</td><td>25</td><td>3</td><td>1.0</td><td>0.33</td><td>59.425505</td><td>&quot;K&quot;</td></tr><tr><td>&quot;All-Bran with Extra Fiber&quot;</td><td>&quot;K&quot;</td><td>&quot;C&quot;</td><td>50</td><td>4</td><td>0</td><td>140</td><td>14.0</td><td>8.0</td><td>0</td><td>330</td><td>25</td><td>3</td><td>1.0</td><td>0.5</td><td>93.704912</td><td>&quot;D&quot;</td></tr><tr><td>&quot;Almond Delight&quot;</td><td>&quot;R&quot;</td><td>&quot;C&quot;</td><td>110</td><td>2</td><td>2</td><td>200</td><td>1.0</td><td>14.0</td><td>8</td><td>null</td><td>25</td><td>3</td><td>1.0</td><td>0.75</td><td>34.384843</td><td>&quot;D&quot;</td></tr><tr><td>&hellip;</td><td>&hellip;</td><td>&hellip;</td><td>&hellip;</td><td>&hellip;</td><td>&hellip;</td><td>&hellip;</td><td>&hellip;</td><td>&hellip;</td><td>&hellip;</td><td>&hellip;</td><td>&hellip;</td><td>&hellip;</td><td>&hellip;</td><td>&hellip;</td><td>&hellip;</td><td>&hellip;</td></tr><tr><td>&quot;Triples&quot;</td><td>&quot;G&quot;</td><td>&quot;C&quot;</td><td>110</td><td>2</td><td>1</td><td>250</td><td>0.0</td><td>21.0</td><td>3</td><td>60</td><td>25</td><td>3</td><td>1.0</td><td>0.75</td><td>39.106174</td><td>&quot;D&quot;</td></tr><tr><td>&quot;Trix&quot;</td><td>&quot;G&quot;</td><td>&quot;C&quot;</td><td>110</td><td>1</td><td>1</td><td>140</td><td>0.0</td><td>13.0</td><td>12</td><td>25</td><td>25</td><td>2</td><td>1.0</td><td>1.0</td><td>27.753301</td><td>&quot;G&quot;</td></tr><tr><td>&quot;Wheat Chex&quot;</td><td>&quot;R&quot;</td><td>&quot;C&quot;</td><td>100</td><td>3</td><td>1</td><td>230</td><td>3.0</td><td>17.0</td><td>3</td><td>115</td><td>25</td><td>1</td><td>1.0</td><td>0.67</td><td>49.787445</td><td>&quot;G&quot;</td></tr><tr><td>&quot;Wheaties&quot;</td><td>&quot;G&quot;</td><td>&quot;C&quot;</td><td>100</td><td>3</td><td>1</td><td>200</td><td>3.0</td><td>17.0</td><td>3</td><td>110</td><td>25</td><td>1</td><td>1.0</td><td>1.0</td><td>51.592193</td><td>&quot;G&quot;</td></tr><tr><td>&quot;Wheaties Honey Gold&quot;</td><td>&quot;G&quot;</td><td>&quot;C&quot;</td><td>110</td><td>2</td><td>1</td><td>200</td><td>1.0</td><td>16.0</td><td>8</td><td>60</td><td>25</td><td>1</td><td>1.0</td><td>0.75</td><td>36.187559</td><td>&quot;D&quot;</td></tr></tbody></table></div>"
      ],
      "text/plain": [
       "shape: (77, 17)\n",
       "┌───────────────────────────┬─────┬──────┬──────────┬───┬────────┬──────┬───────────┬─────────────┐\n",
       "│ name                      ┆ mfr ┆ type ┆ calories ┆ … ┆ weight ┆ cups ┆ rating    ┆ current_mfr │\n",
       "│ ---                       ┆ --- ┆ ---  ┆ ---      ┆   ┆ ---    ┆ ---  ┆ ---       ┆ ---         │\n",
       "│ str                       ┆ str ┆ str  ┆ i64      ┆   ┆ f64    ┆ f64  ┆ f64       ┆ str         │\n",
       "╞═══════════════════════════╪═════╪══════╪══════════╪═══╪════════╪══════╪═══════════╪═════════════╡\n",
       "│ 100% Bran                 ┆ N   ┆ C    ┆ 70       ┆ … ┆ 1.0    ┆ 0.33 ┆ 68.402973 ┆ K           │\n",
       "│ 100% Natural Bran         ┆ Q   ┆ C    ┆ 120      ┆ … ┆ 1.0    ┆ 1.0  ┆ 33.983679 ┆ D           │\n",
       "│ All-Bran                  ┆ K   ┆ C    ┆ 70       ┆ … ┆ 1.0    ┆ 0.33 ┆ 59.425505 ┆ K           │\n",
       "│ All-Bran with Extra Fiber ┆ K   ┆ C    ┆ 50       ┆ … ┆ 1.0    ┆ 0.5  ┆ 93.704912 ┆ D           │\n",
       "│ Almond Delight            ┆ R   ┆ C    ┆ 110      ┆ … ┆ 1.0    ┆ 0.75 ┆ 34.384843 ┆ D           │\n",
       "│ …                         ┆ …   ┆ …    ┆ …        ┆ … ┆ …      ┆ …    ┆ …         ┆ …           │\n",
       "│ Triples                   ┆ G   ┆ C    ┆ 110      ┆ … ┆ 1.0    ┆ 0.75 ┆ 39.106174 ┆ D           │\n",
       "│ Trix                      ┆ G   ┆ C    ┆ 110      ┆ … ┆ 1.0    ┆ 1.0  ┆ 27.753301 ┆ G           │\n",
       "│ Wheat Chex                ┆ R   ┆ C    ┆ 100      ┆ … ┆ 1.0    ┆ 0.67 ┆ 49.787445 ┆ G           │\n",
       "│ Wheaties                  ┆ G   ┆ C    ┆ 100      ┆ … ┆ 1.0    ┆ 1.0  ┆ 51.592193 ┆ G           │\n",
       "│ Wheaties Honey Gold       ┆ G   ┆ C    ┆ 110      ┆ … ┆ 1.0    ┆ 0.75 ┆ 36.187559 ┆ D           │\n",
       "└───────────────────────────┴─────┴──────┴──────────┴───┴────────┴──────┴───────────┴─────────────┘"
      ]
     },
     "execution_count": 16,
     "metadata": {},
     "output_type": "execute_result"
    }
   ],
   "source": [
    "cereal_update = cereal.join(cereal_current, on='name', how='inner')\n",
    "\n",
    "cereal_update"
   ]
  },
  {
   "cell_type": "markdown",
   "id": "8b67bf97",
   "metadata": {},
   "source": [
    "## Data Analysis\n",
    "\n",
    "Polars operations allow for powerful analysis. Here are some simple questions and answers, and there's much more you can do as well."
   ]
  },
  {
   "cell_type": "markdown",
   "id": "8dc4a51f",
   "metadata": {},
   "source": [
    "> **QUESTION:** Which cereals have now been discontinued?"
   ]
  },
  {
   "cell_type": "code",
   "execution_count": 17,
   "id": "cec3eea0",
   "metadata": {},
   "outputs": [
    {
     "data": {
      "text/html": [
       "<div><style>\n",
       ".dataframe > thead > tr,\n",
       ".dataframe > tbody > tr {\n",
       "  text-align: right;\n",
       "  white-space: pre-wrap;\n",
       "}\n",
       "</style>\n",
       "<small>shape: (21, 2)</small><table border=\"1\" class=\"dataframe\"><thead><tr><th>name</th><th>current_mfr</th></tr><tr><td>str</td><td>str</td></tr></thead><tbody><tr><td>&quot;100% Natural Bran&quot;</td><td>&quot;D&quot;</td></tr><tr><td>&quot;All-Bran with Extra Fiber&quot;</td><td>&quot;D&quot;</td></tr><tr><td>&quot;Almond Delight&quot;</td><td>&quot;D&quot;</td></tr><tr><td>&quot;Clusters&quot;</td><td>&quot;D&quot;</td></tr><tr><td>&quot;Crispy Wheat &amp; Raisins&quot;</td><td>&quot;D&quot;</td></tr><tr><td>&hellip;</td><td>&hellip;</td></tr><tr><td>&quot;Raisin Squares&quot;</td><td>&quot;D&quot;</td></tr><tr><td>&quot;Shredded Wheat &#x27;n&#x27;Bran&quot;</td><td>&quot;D&quot;</td></tr><tr><td>&quot;Strawberry Fruit Wheats&quot;</td><td>&quot;D&quot;</td></tr><tr><td>&quot;Triples&quot;</td><td>&quot;D&quot;</td></tr><tr><td>&quot;Wheaties Honey Gold&quot;</td><td>&quot;D&quot;</td></tr></tbody></table></div>"
      ],
      "text/plain": [
       "shape: (21, 2)\n",
       "┌───────────────────────────┬─────────────┐\n",
       "│ name                      ┆ current_mfr │\n",
       "│ ---                       ┆ ---         │\n",
       "│ str                       ┆ str         │\n",
       "╞═══════════════════════════╪═════════════╡\n",
       "│ 100% Natural Bran         ┆ D           │\n",
       "│ All-Bran with Extra Fiber ┆ D           │\n",
       "│ Almond Delight            ┆ D           │\n",
       "│ Clusters                  ┆ D           │\n",
       "│ Crispy Wheat & Raisins    ┆ D           │\n",
       "│ …                         ┆ …           │\n",
       "│ Raisin Squares            ┆ D           │\n",
       "│ Shredded Wheat 'n'Bran    ┆ D           │\n",
       "│ Strawberry Fruit Wheats   ┆ D           │\n",
       "│ Triples                   ┆ D           │\n",
       "│ Wheaties Honey Gold       ┆ D           │\n",
       "└───────────────────────────┴─────────────┘"
      ]
     },
     "execution_count": 17,
     "metadata": {},
     "output_type": "execute_result"
    }
   ],
   "source": [
    "cereal_update.filter(pl.col('current_mfr') == 'D').select(pl.col('name', 'current_mfr'))"
   ]
  },
  {
   "cell_type": "markdown",
   "id": "c4a05282",
   "metadata": {},
   "source": [
    "> **QUESTION:** Which current cereals have switched manufacturers?"
   ]
  },
  {
   "cell_type": "code",
   "execution_count": 18,
   "id": "03a43626",
   "metadata": {},
   "outputs": [
    {
     "data": {
      "text/html": [
       "<div><style>\n",
       ".dataframe > thead > tr,\n",
       ".dataframe > tbody > tr {\n",
       "  text-align: right;\n",
       "  white-space: pre-wrap;\n",
       "}\n",
       "</style>\n",
       "<small>shape: (11, 3)</small><table border=\"1\" class=\"dataframe\"><thead><tr><th>name</th><th>mfr</th><th>current_mfr</th></tr><tr><td>str</td><td>str</td><td>str</td></tr></thead><tbody><tr><td>&quot;100% Bran&quot;</td><td>&quot;N&quot;</td><td>&quot;K&quot;</td></tr><tr><td>&quot;Bran Chex&quot;</td><td>&quot;R&quot;</td><td>&quot;G&quot;</td></tr><tr><td>&quot;Bran Flakes&quot;</td><td>&quot;P&quot;</td><td>&quot;K&quot;</td></tr><tr><td>&quot;Corn Chex&quot;</td><td>&quot;R&quot;</td><td>&quot;G&quot;</td></tr><tr><td>&quot;Cream of Wheat (Quick)&quot;</td><td>&quot;N&quot;</td><td>&quot;B&quot;</td></tr><tr><td>&hellip;</td><td>&hellip;</td><td>&hellip;</td></tr><tr><td>&quot;Maypo&quot;</td><td>&quot;A&quot;</td><td>&quot;H&quot;</td></tr><tr><td>&quot;Rice Chex&quot;</td><td>&quot;R&quot;</td><td>&quot;G&quot;</td></tr><tr><td>&quot;Shredded Wheat&quot;</td><td>&quot;N&quot;</td><td>&quot;P&quot;</td></tr><tr><td>&quot;Shredded Wheat spoon size&quot;</td><td>&quot;N&quot;</td><td>&quot;P&quot;</td></tr><tr><td>&quot;Wheat Chex&quot;</td><td>&quot;R&quot;</td><td>&quot;G&quot;</td></tr></tbody></table></div>"
      ],
      "text/plain": [
       "shape: (11, 3)\n",
       "┌───────────────────────────┬─────┬─────────────┐\n",
       "│ name                      ┆ mfr ┆ current_mfr │\n",
       "│ ---                       ┆ --- ┆ ---         │\n",
       "│ str                       ┆ str ┆ str         │\n",
       "╞═══════════════════════════╪═════╪═════════════╡\n",
       "│ 100% Bran                 ┆ N   ┆ K           │\n",
       "│ Bran Chex                 ┆ R   ┆ G           │\n",
       "│ Bran Flakes               ┆ P   ┆ K           │\n",
       "│ Corn Chex                 ┆ R   ┆ G           │\n",
       "│ Cream of Wheat (Quick)    ┆ N   ┆ B           │\n",
       "│ …                         ┆ …   ┆ …           │\n",
       "│ Maypo                     ┆ A   ┆ H           │\n",
       "│ Rice Chex                 ┆ R   ┆ G           │\n",
       "│ Shredded Wheat            ┆ N   ┆ P           │\n",
       "│ Shredded Wheat spoon size ┆ N   ┆ P           │\n",
       "│ Wheat Chex                ┆ R   ┆ G           │\n",
       "└───────────────────────────┴─────┴─────────────┘"
      ]
     },
     "execution_count": 18,
     "metadata": {},
     "output_type": "execute_result"
    }
   ],
   "source": [
    "(cereal_update\n",
    " .filter((pl.col('mfr') != pl.col('current_mfr')) & (pl.col('current_mfr') != 'D'))\n",
    " .select(pl.col('name', 'mfr', 'current_mfr'))\n",
    ")"
   ]
  },
  {
   "cell_type": "markdown",
   "id": "0a7d8144",
   "metadata": {},
   "source": [
    "## Writing to a CSV\n",
    "\n",
    "Once you have new data you'd like to save, Polars allows you to write it to a CSV with `.write_csv()`."
   ]
  },
  {
   "cell_type": "code",
   "execution_count": 19,
   "id": "efbfc34e",
   "metadata": {},
   "outputs": [],
   "source": [
    "!mkdir -p data"
   ]
  },
  {
   "cell_type": "code",
   "execution_count": 20,
   "id": "271a26b3",
   "metadata": {},
   "outputs": [],
   "source": [
    "cereal_update.write_csv('data/cereal_updated.csv')"
   ]
  },
  {
   "cell_type": "code",
   "execution_count": 21,
   "id": "204a8ad7",
   "metadata": {},
   "outputs": [
    {
     "name": "stdout",
     "output_type": "stream",
     "text": [
      "cereal_updated.csv\r\n"
     ]
    }
   ],
   "source": [
    "!ls data"
   ]
  },
  {
   "cell_type": "code",
   "execution_count": null,
   "id": "59ef5c66",
   "metadata": {},
   "outputs": [],
   "source": []
  }
 ],
 "metadata": {
  "kernelspec": {
   "display_name": "Python 3 (ipykernel)",
   "language": "python",
   "name": "python3"
  },
  "language_info": {
   "codemirror_mode": {
    "name": "ipython",
    "version": 3
   },
   "file_extension": ".py",
   "mimetype": "text/x-python",
   "name": "python",
   "nbconvert_exporter": "python",
   "pygments_lexer": "ipython3",
   "version": "3.10.13"
  }
 },
 "nbformat": 4,
 "nbformat_minor": 5
}
